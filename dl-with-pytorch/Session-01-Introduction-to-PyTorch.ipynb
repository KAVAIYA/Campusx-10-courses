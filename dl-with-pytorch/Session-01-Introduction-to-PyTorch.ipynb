{
 "cells": [
  {
   "cell_type": "markdown",
   "id": "27eb514e",
   "metadata": {
    "heading_collapsed": true
   },
   "source": [
    "# What are Tensors"
   ]
  },
  {
   "cell_type": "markdown",
   "id": "fe1d127d",
   "metadata": {
    "hidden": true
   },
   "source": [
    "- Tensors are a fundamental data structure used in the field of machine learning and scientific \n",
    "computing. At their core, tensors are multi dimentional arrays."
   ]
  },
  {
   "cell_type": "markdown",
   "id": "85861b0f",
   "metadata": {
    "hidden": true
   },
   "source": [
    "- Scalar is $o^{th}$ order tensor.\n",
    "- Vector is $1^{st}$ order tensor.\n",
    "- Matrix is $2^{nd}$ order tensor.\n"
   ]
  },
  {
   "cell_type": "code",
   "execution_count": 1,
   "id": "0b2c7c60",
   "metadata": {
    "ExecuteTime": {
     "end_time": "2024-04-29T16:12:45.887918Z",
     "start_time": "2024-04-29T16:12:44.037950Z"
    },
    "hidden": true
   },
   "outputs": [],
   "source": [
    "import torch"
   ]
  },
  {
   "cell_type": "markdown",
   "id": "73271c33",
   "metadata": {
    "heading_collapsed": true,
    "hidden": true
   },
   "source": [
    "## Generating Tensors"
   ]
  },
  {
   "cell_type": "markdown",
   "id": "aa5013db",
   "metadata": {
    "heading_collapsed": true,
    "hidden": true
   },
   "source": [
    "### Using Lists"
   ]
  },
  {
   "cell_type": "code",
   "execution_count": 5,
   "id": "06e3060f",
   "metadata": {
    "ExecuteTime": {
     "end_time": "2024-04-28T07:19:01.702848Z",
     "start_time": "2024-04-28T07:19:01.672481Z"
    },
    "hidden": true
   },
   "outputs": [
    {
     "name": "stdout",
     "output_type": "stream",
     "text": [
      "List : [0, 1, 2, 3, 4, 5, 6, 7, 8, 9]\n",
      "Tensor : tensor([0, 1, 2, 3, 4, 5, 6, 7, 8, 9])\n"
     ]
    }
   ],
   "source": [
    "list1=list(range(10))\n",
    "print(f\"List : {list1}\")\n",
    "tensor=torch.tensor(list1)\n",
    "print(f\"Tensor : {tensor}\")\n"
   ]
  },
  {
   "cell_type": "markdown",
   "id": "b1a45775",
   "metadata": {
    "heading_collapsed": true,
    "hidden": true
   },
   "source": [
    "### Using Tuple"
   ]
  },
  {
   "cell_type": "code",
   "execution_count": 6,
   "id": "01e70f9c",
   "metadata": {
    "ExecuteTime": {
     "end_time": "2024-04-28T07:20:51.005070Z",
     "start_time": "2024-04-28T07:20:51.001958Z"
    },
    "hidden": true
   },
   "outputs": [
    {
     "name": "stdout",
     "output_type": "stream",
     "text": [
      "List : (0, 1, 2, 3, 4, 5, 6, 7, 8, 9)\n",
      "Tensor : tensor([0, 1, 2, 3, 4, 5, 6, 7, 8, 9])\n"
     ]
    }
   ],
   "source": [
    "tuple1=tuple(range(10))\n",
    "print(f\"List : {list1}\")\n",
    "tensor=torch.tensor(list1)\n",
    "print(f\"Tensor : {tensor}\")"
   ]
  },
  {
   "cell_type": "code",
   "execution_count": 23,
   "id": "8db8c12c",
   "metadata": {
    "ExecuteTime": {
     "end_time": "2024-04-28T10:00:17.646707Z",
     "start_time": "2024-04-28T10:00:17.643334Z"
    },
    "hidden": true
   },
   "outputs": [
    {
     "data": {
      "text/plain": [
       "tensor([[1, 2],\n",
       "        [2, 3],\n",
       "        [3, 4]])"
      ]
     },
     "execution_count": 23,
     "metadata": {},
     "output_type": "execute_result"
    }
   ],
   "source": [
    "tuple2=([(1,2),(2,3),(3,4)])\n",
    "T(tuple2)"
   ]
  },
  {
   "cell_type": "code",
   "execution_count": 24,
   "id": "9c079bad",
   "metadata": {
    "ExecuteTime": {
     "end_time": "2024-04-28T10:00:45.823174Z",
     "start_time": "2024-04-28T10:00:45.811786Z"
    },
    "hidden": true
   },
   "outputs": [
    {
     "ename": "ValueError",
     "evalue": "too many dimensions 'str'",
     "output_type": "error",
     "traceback": [
      "\u001b[0;31m---------------------------------------------------------------------------\u001b[0m",
      "\u001b[0;31mValueError\u001b[0m                                Traceback (most recent call last)",
      "Cell \u001b[0;32mIn[24], line 2\u001b[0m\n\u001b[1;32m      1\u001b[0m tuple3\u001b[38;5;241m=\u001b[39m([(\u001b[38;5;124m'\u001b[39m\u001b[38;5;124ma\u001b[39m\u001b[38;5;124m'\u001b[39m,\u001b[38;5;241m2\u001b[39m),(\u001b[38;5;124m'\u001b[39m\u001b[38;5;124mb\u001b[39m\u001b[38;5;124m'\u001b[39m,\u001b[38;5;241m3\u001b[39m),(\u001b[38;5;124m'\u001b[39m\u001b[38;5;124mc\u001b[39m\u001b[38;5;124m'\u001b[39m,\u001b[38;5;241m4\u001b[39m)])\n\u001b[0;32m----> 2\u001b[0m T(tuple3)\n",
      "\u001b[0;31mValueError\u001b[0m: too many dimensions 'str'"
     ]
    }
   ],
   "source": [
    "tuple3=([('a',2),('b',3),('c',4)])\n",
    "T(tuple3)"
   ]
  },
  {
   "cell_type": "markdown",
   "id": "3d11bed8",
   "metadata": {
    "hidden": true
   },
   "source": [
    "**Hetrogeneous Datatypes are not allowed**"
   ]
  },
  {
   "cell_type": "markdown",
   "id": "d5589dd1",
   "metadata": {
    "heading_collapsed": true,
    "hidden": true
   },
   "source": [
    "### From Dictionary"
   ]
  },
  {
   "cell_type": "code",
   "execution_count": 21,
   "id": "27487c61",
   "metadata": {
    "ExecuteTime": {
     "end_time": "2024-04-28T09:57:06.288286Z",
     "start_time": "2024-04-28T09:57:06.263024Z"
    },
    "hidden": true
   },
   "outputs": [
    {
     "ename": "RuntimeError",
     "evalue": "Could not infer dtype of dict",
     "output_type": "error",
     "traceback": [
      "\u001b[0;31m---------------------------------------------------------------------------\u001b[0m",
      "\u001b[0;31mRuntimeError\u001b[0m                              Traceback (most recent call last)",
      "Cell \u001b[0;32mIn[21], line 4\u001b[0m\n\u001b[1;32m      1\u001b[0m dict1\u001b[38;5;241m=\u001b[39m{\n\u001b[1;32m      2\u001b[0m     \u001b[38;5;241m1\u001b[39m:\u001b[38;5;241m2\u001b[39m,\u001b[38;5;241m2\u001b[39m:\u001b[38;5;241m2\u001b[39m,\u001b[38;5;241m3\u001b[39m:\u001b[38;5;241m3\u001b[39m\n\u001b[1;32m      3\u001b[0m }\n\u001b[0;32m----> 4\u001b[0m T(dict1)\n",
      "\u001b[0;31mRuntimeError\u001b[0m: Could not infer dtype of dict"
     ]
    }
   ],
   "source": [
    "dict1={\n",
    "    1:2,2:2,3:3\n",
    "}\n",
    "T(dict1)"
   ]
  },
  {
   "cell_type": "markdown",
   "id": "cf0fc19b",
   "metadata": {
    "heading_collapsed": true,
    "hidden": true
   },
   "source": [
    "### From Set"
   ]
  },
  {
   "cell_type": "code",
   "execution_count": 22,
   "id": "d4972d7b",
   "metadata": {
    "ExecuteTime": {
     "end_time": "2024-04-28T09:58:30.973114Z",
     "start_time": "2024-04-28T09:58:30.960734Z"
    },
    "hidden": true
   },
   "outputs": [
    {
     "ename": "RuntimeError",
     "evalue": "Could not infer dtype of set",
     "output_type": "error",
     "traceback": [
      "\u001b[0;31m---------------------------------------------------------------------------\u001b[0m",
      "\u001b[0;31mRuntimeError\u001b[0m                              Traceback (most recent call last)",
      "Cell \u001b[0;32mIn[22], line 2\u001b[0m\n\u001b[1;32m      1\u001b[0m set1\u001b[38;5;241m=\u001b[39m{\u001b[38;5;241m1\u001b[39m,\u001b[38;5;241m2\u001b[39m,\u001b[38;5;241m4\u001b[39m,\u001b[38;5;241m1\u001b[39m,\u001b[38;5;241m2\u001b[39m,\u001b[38;5;241m3\u001b[39m}\n\u001b[0;32m----> 2\u001b[0m T(set1)\n",
      "\u001b[0;31mRuntimeError\u001b[0m: Could not infer dtype of set"
     ]
    }
   ],
   "source": [
    "set1={1,2,4,1,2,3}\n",
    "T(set1)"
   ]
  },
  {
   "cell_type": "markdown",
   "id": "41af3d69",
   "metadata": {
    "hidden": true
   },
   "source": [
    "**We can not make tensor from dictionary and set because they use hash functions which has key value pairs.**"
   ]
  },
  {
   "cell_type": "markdown",
   "id": "832efd12",
   "metadata": {
    "heading_collapsed": true,
    "hidden": true
   },
   "source": [
    "### Using Numpy Array"
   ]
  },
  {
   "cell_type": "code",
   "execution_count": 20,
   "id": "ca6e64b3",
   "metadata": {
    "ExecuteTime": {
     "end_time": "2024-04-28T09:53:59.426801Z",
     "start_time": "2024-04-28T09:53:59.403125Z"
    },
    "hidden": true
   },
   "outputs": [
    {
     "name": "stdout",
     "output_type": "stream",
     "text": [
      "Numpy array:[0 1 2 3 4 5 6 7 8 9] || datatype : <class 'numpy.ndarray'>\n",
      "Torch Tensor:tensor([0, 1, 2, 3, 4, 5, 6, 7, 8, 9]) || datatype : <class 'torch.Tensor'>\n",
      "Numpy array:[0 1 2 3 4 5 6 7 8 9] || datatype : <class 'numpy.ndarray'>\n"
     ]
    }
   ],
   "source": [
    "import numpy as np\n",
    "\n",
    "np_array = np.array(list(range(10)))\n",
    "print(f\"Numpy array:{np_array} || datatype : {type(np_array)}\")\n",
    "\n",
    "# Convert NumPy array to PyTorch tensor\n",
    "torch_tensor = torch.tensor(np_array)\n",
    "# or\n",
    "torch_tensor = torch.from_numpy(np_array)\n",
    "print(f\"Torch Tensor:{torch_tensor} || datatype : {type(torch_tensor)}\")\n",
    "\n",
    "# Convert tensor to numpy array\n",
    "c = torch_tensor.numpy()\n",
    "print(f\"Numpy array:{c} || datatype : {type(c)}\")"
   ]
  },
  {
   "cell_type": "markdown",
   "id": "2cba0a54",
   "metadata": {
    "heading_collapsed": true,
    "hidden": true
   },
   "source": [
    "### From Tensor"
   ]
  },
  {
   "cell_type": "code",
   "execution_count": 37,
   "id": "4b506909",
   "metadata": {
    "ExecuteTime": {
     "end_time": "2024-04-28T10:15:50.333500Z",
     "start_time": "2024-04-28T10:15:50.329648Z"
    },
    "hidden": true
   },
   "outputs": [
    {
     "data": {
      "text/plain": [
       "tensor([[1, 2, 3],\n",
       "        [3, 4, 1],\n",
       "        [4, 2, 3]])"
      ]
     },
     "execution_count": 37,
     "metadata": {},
     "output_type": "execute_result"
    }
   ],
   "source": [
    "from torch import tensor\n",
    "t=tensor([\n",
    "    [1,2,3],\n",
    "    [3,4,1],\n",
    "    [4,2,3]\n",
    "])\n",
    "t"
   ]
  },
  {
   "cell_type": "markdown",
   "id": "7684e804",
   "metadata": {
    "heading_collapsed": true,
    "hidden": true
   },
   "source": [
    "### 2D Tensor (Matrix)"
   ]
  },
  {
   "cell_type": "code",
   "execution_count": 12,
   "id": "606fb311",
   "metadata": {
    "ExecuteTime": {
     "end_time": "2024-04-28T09:30:38.291687Z",
     "start_time": "2024-04-28T09:30:38.288602Z"
    },
    "hidden": true
   },
   "outputs": [
    {
     "name": "stdout",
     "output_type": "stream",
     "text": [
      "tensor([[1, 2, 3],\n",
      "        [4, 5, 6]])\n",
      "torch.Size([2, 3]) torch.Size([2, 3])\n"
     ]
    }
   ],
   "source": [
    "tensor_2d=torch.tensor(\n",
    "[\n",
    "    [1,2,3],\n",
    "    [4,5,6]\n",
    "]\n",
    ")\n",
    "print(tensor_2d)\n",
    "print(tensor_2d.shape,tensor_2d.size())"
   ]
  },
  {
   "cell_type": "markdown",
   "id": "8aeb3977",
   "metadata": {
    "heading_collapsed": true,
    "hidden": true
   },
   "source": [
    "### 3D Tensors "
   ]
  },
  {
   "cell_type": "code",
   "execution_count": 16,
   "id": "cf98a27a",
   "metadata": {
    "ExecuteTime": {
     "end_time": "2024-04-28T09:34:26.982033Z",
     "start_time": "2024-04-28T09:34:26.978964Z"
    },
    "hidden": true
   },
   "outputs": [
    {
     "name": "stdout",
     "output_type": "stream",
     "text": [
      "tensor([[[1, 2, 2],\n",
      "         [3, 4, 5]],\n",
      "\n",
      "        [[4, 2, 3],\n",
      "         [6, 2, 3]]])\n",
      "torch.Size([2, 2, 3])\n"
     ]
    }
   ],
   "source": [
    "\n",
    "from torch import tensor as T\n",
    "tensor_3d=T([\n",
    "    [\n",
    "        [1,2,2],\n",
    "        [3,4,5],\n",
    "    ],\n",
    "    [\n",
    "        [4,2,3],\n",
    "        [6,2,3],\n",
    "    ]\n",
    "])\n",
    "print(tensor_3d)\n",
    "print(tensor_3d.shape)\n"
   ]
  },
  {
   "cell_type": "markdown",
   "id": "e823572d",
   "metadata": {
    "hidden": true
   },
   "source": [
    "$[2,2,3]$ means there are 2 elements in this tensor i.e $[1,2,3],[ 3,4,5]$ and $[4,2,3],\n",
    "        [6,2,3],$ then second 2 is telling these this has 2 $2D$ tensors inside this dimension.\n",
    "        and the last 3 means this tensor has dimension 3."
   ]
  },
  {
   "cell_type": "markdown",
   "id": "1b9c7b43",
   "metadata": {
    "heading_collapsed": true,
    "hidden": true
   },
   "source": [
    "### 4D Tensors"
   ]
  },
  {
   "cell_type": "code",
   "execution_count": 17,
   "id": "31fd2760",
   "metadata": {
    "ExecuteTime": {
     "end_time": "2024-04-28T09:36:03.869197Z",
     "start_time": "2024-04-28T09:36:03.865866Z"
    },
    "hidden": true
   },
   "outputs": [
    {
     "name": "stdout",
     "output_type": "stream",
     "text": [
      "tensor([[[[1, 2, 3],\n",
      "          [2, 3, 4]]],\n",
      "\n",
      "\n",
      "        [[[2, 3, 2],\n",
      "          [4, 5, 6]]]])\n",
      "torch.Size([2, 1, 2, 3])\n"
     ]
    }
   ],
   "source": [
    "tensor_4d=T([\n",
    "    [\n",
    "        [\n",
    "            [1,2,3],\n",
    "            [2,3,4],\n",
    "        ]\n",
    "    ],\n",
    "    [\n",
    "        [\n",
    "            [2,3,2],\n",
    "            [4,5,6]\n",
    "        ]\n",
    "    ]\n",
    "])\n",
    "print(tensor_4d)\n",
    "print(tensor_4d.shape)"
   ]
  },
  {
   "cell_type": "markdown",
   "id": "c1f2a4f4",
   "metadata": {
    "hidden": true
   },
   "source": [
    "```torch.Size([2, 1, 2, 3])``` \\\n",
    "2: Means 2 Elements in this tensor.\\\n",
    "1: Means 1 Element along this dimension which is of tensor in this tensor.\\\n",
    "2: Means 2 3D tensor are present.\\\n",
    "3: Means this is the innermost dimension and represents the array's shape each array of size $2\\times3$(2 rows 3 columns)"
   ]
  },
  {
   "cell_type": "code",
   "execution_count": 18,
   "id": "0324be54",
   "metadata": {
    "ExecuteTime": {
     "end_time": "2024-04-28T09:52:25.923514Z",
     "start_time": "2024-04-28T09:52:25.920531Z"
    },
    "hidden": true
   },
   "outputs": [
    {
     "data": {
      "text/plain": [
       "torch.int64"
      ]
     },
     "execution_count": 18,
     "metadata": {},
     "output_type": "execute_result"
    }
   ],
   "source": [
    "tensor_2d.dtype"
   ]
  },
  {
   "cell_type": "markdown",
   "id": "eec22003",
   "metadata": {
    "heading_collapsed": true,
    "hidden": true
   },
   "source": [
    "## Tensor Functions"
   ]
  },
  {
   "cell_type": "markdown",
   "id": "29aff5d7",
   "metadata": {
    "heading_collapsed": true,
    "hidden": true
   },
   "source": [
    "### Tensor of Zeros"
   ]
  },
  {
   "cell_type": "code",
   "execution_count": 28,
   "id": "66ef9efd",
   "metadata": {
    "ExecuteTime": {
     "end_time": "2024-04-28T10:04:40.020051Z",
     "start_time": "2024-04-28T10:04:40.016042Z"
    },
    "hidden": true
   },
   "outputs": [
    {
     "data": {
      "text/plain": [
       "(tensor([[0., 0., 0., 0.],\n",
       "         [0., 0., 0., 0.],\n",
       "         [0., 0., 0., 0.],\n",
       "         [0., 0., 0., 0.]]),\n",
       " torch.Size([4, 4]))"
      ]
     },
     "execution_count": 28,
     "metadata": {},
     "output_type": "execute_result"
    }
   ],
   "source": [
    "from torch import zeros\n",
    "z=zeros((4,4))\n",
    "z,z.shape"
   ]
  },
  {
   "cell_type": "markdown",
   "id": "e627b32a",
   "metadata": {
    "heading_collapsed": true,
    "hidden": true
   },
   "source": [
    "### Tensor of Ones"
   ]
  },
  {
   "cell_type": "code",
   "execution_count": 30,
   "id": "dc04b28f",
   "metadata": {
    "ExecuteTime": {
     "end_time": "2024-04-28T10:05:59.165566Z",
     "start_time": "2024-04-28T10:05:59.161713Z"
    },
    "hidden": true
   },
   "outputs": [
    {
     "data": {
      "text/plain": [
       "tensor([[1, 1, 1],\n",
       "        [1, 1, 1]], dtype=torch.int16)"
      ]
     },
     "execution_count": 30,
     "metadata": {},
     "output_type": "execute_result"
    }
   ],
   "source": [
    "from torch import ones\n",
    "one=ones((2,3),dtype=torch.int16)\n",
    "one"
   ]
  },
  {
   "cell_type": "markdown",
   "id": "0cffbcd3",
   "metadata": {
    "heading_collapsed": true,
    "hidden": true
   },
   "source": [
    "### Tensor of  Identity "
   ]
  },
  {
   "cell_type": "code",
   "execution_count": 34,
   "id": "3c585c40",
   "metadata": {
    "ExecuteTime": {
     "end_time": "2024-04-28T10:09:43.001570Z",
     "start_time": "2024-04-28T10:09:42.996158Z"
    },
    "hidden": true
   },
   "outputs": [
    {
     "data": {
      "text/plain": [
       "tensor([[1., 0., 0., 0.],\n",
       "        [0., 1., 0., 0.],\n",
       "        [0., 0., 1., 0.],\n",
       "        [0., 0., 0., 1.]])"
      ]
     },
     "execution_count": 34,
     "metadata": {},
     "output_type": "execute_result"
    }
   ],
   "source": [
    "from torch import eye\n",
    "e=eye(4)\n",
    "e"
   ]
  },
  {
   "cell_type": "code",
   "execution_count": 35,
   "id": "af56e163",
   "metadata": {
    "ExecuteTime": {
     "end_time": "2024-04-28T10:09:55.775484Z",
     "start_time": "2024-04-28T10:09:55.771598Z"
    },
    "hidden": true
   },
   "outputs": [
    {
     "data": {
      "text/plain": [
       "tensor([[1., 0., 0.],\n",
       "        [0., 1., 0.],\n",
       "        [0., 0., 1.],\n",
       "        [0., 0., 0.]])"
      ]
     },
     "execution_count": 35,
     "metadata": {},
     "output_type": "execute_result"
    }
   ],
   "source": [
    "e2=eye(4,3)\n",
    "e2"
   ]
  },
  {
   "cell_type": "markdown",
   "id": "57fc4ec5",
   "metadata": {
    "hidden": true
   },
   "source": [
    "### Random with Manual Seed"
   ]
  },
  {
   "cell_type": "code",
   "execution_count": 36,
   "id": "0f588f73",
   "metadata": {
    "ExecuteTime": {
     "end_time": "2024-04-28T10:13:49.260609Z",
     "start_time": "2024-04-28T10:13:49.249691Z"
    },
    "hidden": true
   },
   "outputs": [
    {
     "name": "stdout",
     "output_type": "stream",
     "text": [
      "Random tensor tensor([[0.7576, 0.2793],\n",
      "        [0.4031, 0.7347]])\n",
      "Random tensor tensor([[0.8823, 0.9150],\n",
      "        [0.3829, 0.9593]])\n",
      "Random tensor tensor([[0.7576, 0.2793],\n",
      "        [0.4031, 0.7347]])\n"
     ]
    }
   ],
   "source": [
    "from torch import rand, manual_seed\n",
    "manual_seed(1) \n",
    "r1=rand(2,2)\n",
    "print(f\"Random tensor {r1}\")\n",
    "manual_seed(42)\n",
    "r2=rand(2,2)\n",
    "print(f\"Random tensor {r2}\")\n",
    "manual_seed(1) \n",
    "r3=rand(2,2)\n",
    "print(f\"Random tensor {r3}\")"
   ]
  },
  {
   "cell_type": "markdown",
   "id": "2303744f",
   "metadata": {
    "heading_collapsed": true,
    "hidden": true
   },
   "source": [
    "## Accessing Tensor Elements"
   ]
  },
  {
   "cell_type": "markdown",
   "id": "c28cd99f",
   "metadata": {
    "hidden": true
   },
   "source": [
    "### Indexing"
   ]
  },
  {
   "cell_type": "code",
   "execution_count": 38,
   "id": "25db4df1",
   "metadata": {
    "ExecuteTime": {
     "end_time": "2024-04-28T10:19:03.750463Z",
     "start_time": "2024-04-28T10:19:03.746752Z"
    },
    "hidden": true
   },
   "outputs": [
    {
     "data": {
      "text/plain": [
       "tensor([[2, 1, 2],\n",
       "        [3, 4, 5],\n",
       "        [4, 6, 2]])"
      ]
     },
     "execution_count": 38,
     "metadata": {},
     "output_type": "execute_result"
    }
   ],
   "source": [
    "t=tensor([\n",
    "    [2,1,2],\n",
    "    [3,4,5],\n",
    "    [4,6,2]\n",
    "])\n",
    "t"
   ]
  },
  {
   "cell_type": "code",
   "execution_count": 41,
   "id": "4afae769",
   "metadata": {
    "ExecuteTime": {
     "end_time": "2024-04-28T10:19:55.589909Z",
     "start_time": "2024-04-28T10:19:55.586841Z"
    },
    "hidden": true
   },
   "outputs": [
    {
     "name": "stdout",
     "output_type": "stream",
     "text": [
      "tensor(2)\n",
      "tensor(3)\n"
     ]
    }
   ],
   "source": [
    "print(t[2,2])\n",
    "print(t[1,0])"
   ]
  },
  {
   "cell_type": "code",
   "execution_count": 42,
   "id": "bc4168a3",
   "metadata": {
    "ExecuteTime": {
     "end_time": "2024-04-28T10:21:18.889638Z",
     "start_time": "2024-04-28T10:21:18.883438Z"
    },
    "hidden": true
   },
   "outputs": [
    {
     "name": "stdout",
     "output_type": "stream",
     "text": [
      "tensor([2, 3, 4])\n"
     ]
    }
   ],
   "source": [
    "print(t[:,0])"
   ]
  },
  {
   "cell_type": "code",
   "execution_count": 46,
   "id": "087c2cc0",
   "metadata": {
    "ExecuteTime": {
     "end_time": "2024-04-28T10:24:01.296344Z",
     "start_time": "2024-04-28T10:24:01.292808Z"
    },
    "hidden": true
   },
   "outputs": [
    {
     "data": {
      "text/plain": [
       "tensor(2)"
      ]
     },
     "execution_count": 46,
     "metadata": {},
     "output_type": "execute_result"
    }
   ],
   "source": [
    "#Indexing on 3d tensor\n",
    "tensor_3d[0][0,1]"
   ]
  },
  {
   "cell_type": "markdown",
   "id": "80370854",
   "metadata": {
    "hidden": true
   },
   "source": [
    "### Fancy Indexing"
   ]
  },
  {
   "cell_type": "code",
   "execution_count": 47,
   "id": "b111898c",
   "metadata": {
    "ExecuteTime": {
     "end_time": "2024-04-28T10:25:55.377258Z",
     "start_time": "2024-04-28T10:25:55.374035Z"
    },
    "hidden": true
   },
   "outputs": [
    {
     "name": "stdout",
     "output_type": "stream",
     "text": [
      "tensor([2, 2])\n"
     ]
    }
   ],
   "source": [
    "print(t[0,[0,2]])"
   ]
  },
  {
   "cell_type": "markdown",
   "id": "0d5b2379",
   "metadata": {
    "hidden": true
   },
   "source": [
    "### Slicing"
   ]
  },
  {
   "cell_type": "code",
   "execution_count": 43,
   "id": "4a737d77",
   "metadata": {
    "ExecuteTime": {
     "end_time": "2024-04-28T10:23:08.463698Z",
     "start_time": "2024-04-28T10:23:08.460940Z"
    },
    "hidden": true
   },
   "outputs": [
    {
     "name": "stdout",
     "output_type": "stream",
     "text": [
      "tensor([[3, 4, 5],\n",
      "        [4, 6, 2]])\n"
     ]
    }
   ],
   "source": [
    "print(t[1:,:])"
   ]
  },
  {
   "cell_type": "code",
   "execution_count": 44,
   "id": "646dbd9b",
   "metadata": {
    "ExecuteTime": {
     "end_time": "2024-04-28T10:23:29.728517Z",
     "start_time": "2024-04-28T10:23:29.724923Z"
    },
    "hidden": true
   },
   "outputs": [
    {
     "data": {
      "text/plain": [
       "tensor([[[1, 2, 2],\n",
       "         [3, 4, 5]],\n",
       "\n",
       "        [[4, 2, 3],\n",
       "         [6, 2, 3]]])"
      ]
     },
     "execution_count": 44,
     "metadata": {},
     "output_type": "execute_result"
    }
   ],
   "source": [
    "tensor_3d"
   ]
  },
  {
   "cell_type": "markdown",
   "id": "c2f9e6d9",
   "metadata": {
    "heading_collapsed": true,
    "hidden": true
   },
   "source": [
    "## Masking"
   ]
  },
  {
   "cell_type": "code",
   "execution_count": 49,
   "id": "055a0e0e",
   "metadata": {
    "ExecuteTime": {
     "end_time": "2024-04-28T10:26:56.226104Z",
     "start_time": "2024-04-28T10:26:56.222376Z"
    },
    "hidden": true
   },
   "outputs": [
    {
     "data": {
      "text/plain": [
       "tensor([4, 5, 4, 6])"
      ]
     },
     "execution_count": 49,
     "metadata": {},
     "output_type": "execute_result"
    }
   ],
   "source": [
    "mask=t>3\n",
    "t[mask]"
   ]
  },
  {
   "cell_type": "markdown",
   "id": "112271f6",
   "metadata": {
    "heading_collapsed": true,
    "hidden": true
   },
   "source": [
    "## Reshaping"
   ]
  },
  {
   "cell_type": "code",
   "execution_count": 50,
   "id": "9175625b",
   "metadata": {
    "ExecuteTime": {
     "end_time": "2024-04-28T10:57:52.356680Z",
     "start_time": "2024-04-28T10:57:52.353535Z"
    },
    "hidden": true
   },
   "outputs": [
    {
     "name": "stdout",
     "output_type": "stream",
     "text": [
      "tensor([ 0,  1,  2,  3,  4,  5,  6,  7,  8,  9, 10, 11, 12, 13, 14, 15, 16, 17,\n",
      "        18, 19, 20, 21, 22, 23])\n"
     ]
    }
   ],
   "source": [
    "t1=tensor(list(range(24)))\n",
    "print(t1)"
   ]
  },
  {
   "cell_type": "code",
   "execution_count": 53,
   "id": "9140c179",
   "metadata": {
    "ExecuteTime": {
     "end_time": "2024-04-28T10:59:09.478813Z",
     "start_time": "2024-04-28T10:59:09.475006Z"
    },
    "hidden": true
   },
   "outputs": [
    {
     "data": {
      "text/plain": [
       "tensor([[ 0,  1,  2,  3],\n",
       "        [ 4,  5,  6,  7],\n",
       "        [ 8,  9, 10, 11],\n",
       "        [12, 13, 14, 15],\n",
       "        [16, 17, 18, 19],\n",
       "        [20, 21, 22, 23]])"
      ]
     },
     "execution_count": 53,
     "metadata": {},
     "output_type": "execute_result"
    }
   ],
   "source": [
    "t1.reshape(-1,4) # here 4 columns and -1 auto compute the number of rows.. but col must be multiple of shape of tensor"
   ]
  },
  {
   "cell_type": "code",
   "execution_count": 54,
   "id": "a62b11a1",
   "metadata": {
    "ExecuteTime": {
     "end_time": "2024-04-28T10:59:18.893878Z",
     "start_time": "2024-04-28T10:59:18.890371Z"
    },
    "hidden": true
   },
   "outputs": [
    {
     "data": {
      "text/plain": [
       "tensor([[ 0,  1],\n",
       "        [ 2,  3],\n",
       "        [ 4,  5],\n",
       "        [ 6,  7],\n",
       "        [ 8,  9],\n",
       "        [10, 11],\n",
       "        [12, 13],\n",
       "        [14, 15],\n",
       "        [16, 17],\n",
       "        [18, 19],\n",
       "        [20, 21],\n",
       "        [22, 23]])"
      ]
     },
     "execution_count": 54,
     "metadata": {},
     "output_type": "execute_result"
    }
   ],
   "source": [
    "t1.reshape(12,2)"
   ]
  },
  {
   "cell_type": "code",
   "execution_count": 55,
   "id": "32d9e000",
   "metadata": {
    "ExecuteTime": {
     "end_time": "2024-04-28T10:59:33.837992Z",
     "start_time": "2024-04-28T10:59:33.834670Z"
    },
    "hidden": true
   },
   "outputs": [
    {
     "data": {
      "text/plain": [
       "tensor([[ 0,  1,  2,  3,  4,  5,  6,  7,  8,  9, 10, 11],\n",
       "        [12, 13, 14, 15, 16, 17, 18, 19, 20, 21, 22, 23]])"
      ]
     },
     "execution_count": 55,
     "metadata": {},
     "output_type": "execute_result"
    }
   ],
   "source": [
    "t1.reshape(2,12)"
   ]
  },
  {
   "cell_type": "markdown",
   "id": "39588c56",
   "metadata": {
    "heading_collapsed": true,
    "hidden": true
   },
   "source": [
    "## Dot and Cross Product"
   ]
  },
  {
   "cell_type": "code",
   "execution_count": 62,
   "id": "369b0b21",
   "metadata": {
    "ExecuteTime": {
     "end_time": "2024-04-28T11:06:24.292790Z",
     "start_time": "2024-04-28T11:06:24.288589Z"
    },
    "hidden": true
   },
   "outputs": [
    {
     "data": {
      "text/plain": [
       "tensor([[0., 0., 0.],\n",
       "        [0., 0., 0.]])"
      ]
     },
     "execution_count": 62,
     "metadata": {},
     "output_type": "execute_result"
    }
   ],
   "source": [
    "torch.dot(ones.flatten(),twos.flatten()) # accept only 1d array\n",
    "torch.linalg.cross(ones,twos)"
   ]
  },
  {
   "cell_type": "markdown",
   "id": "124531bb",
   "metadata": {
    "heading_collapsed": true,
    "hidden": true
   },
   "source": [
    "## Arithimatic Operations"
   ]
  },
  {
   "cell_type": "code",
   "execution_count": 56,
   "id": "61c649d8",
   "metadata": {
    "ExecuteTime": {
     "end_time": "2024-04-28T11:02:03.806334Z",
     "start_time": "2024-04-28T11:02:03.797573Z"
    },
    "hidden": true
   },
   "outputs": [
    {
     "name": "stdout",
     "output_type": "stream",
     "text": [
      "tensor([[1., 1., 1.],\n",
      "        [1., 1., 1.]])\n",
      "tensor([[2., 2., 2.],\n",
      "        [2., 2., 2.]])\n",
      "tensor([[3., 3., 3.],\n",
      "        [3., 3., 3.]])\n",
      "torch.Size([2, 3])\n"
     ]
    }
   ],
   "source": [
    "ones = torch.ones(2, 3)\n",
    "print(ones)\n",
    "\n",
    "twos = torch.ones(2, 3) * 2 # every element is multiplied by 2\n",
    "print(twos)\n",
    "\n",
    "threes = ones + twos       # additon allowed because shapes are similar\n",
    "print(threes)              # tensors are added element-wise\n",
    "print(threes.shape)        # this has the same dimensions as input tensors"
   ]
  },
  {
   "cell_type": "markdown",
   "id": "32492ef3",
   "metadata": {
    "heading_collapsed": true,
    "hidden": true
   },
   "source": [
    "## Broadcasting"
   ]
  },
  {
   "cell_type": "markdown",
   "id": "c1c1869b",
   "metadata": {
    "hidden": true
   },
   "source": [
    "* The term **Broadcasting** describes how PyTorch treats array with different shapes during arithimatic operations.\n",
    "* The smaller array is **Broadcast** across the larger array so that they have compatible shapes"
   ]
  },
  {
   "cell_type": "markdown",
   "id": "23a4969f",
   "metadata": {
    "hidden": true
   },
   "source": [
    "### Rules for Broadcasting"
   ]
  },
  {
   "cell_type": "markdown",
   "id": "01b961ef",
   "metadata": {
    "ExecuteTime": {
     "end_time": "2024-04-28T11:11:54.713292Z",
     "start_time": "2024-04-28T11:11:54.709834Z"
    },
    "hidden": true
   },
   "source": [
    "* **Make 2 arrays has same number of dimensions**\n",
    "    * If number of dimensions of two arrays are different,add new dimensions with size 1 to the head of the array \n",
    "    with the smaller dimension\n",
    "* **Make each dimension of the two arrays the same size**\n",
    "    * If the sizes of each dimension of the two arrays do not match, dimensions with 1 are stretched to  the size of the other array.\n",
    "    * If there is a dimension whose size is not 1 in either of two arrays, then can not be broadcasted."
   ]
  },
  {
   "cell_type": "code",
   "execution_count": 69,
   "id": "0ce5914e",
   "metadata": {
    "ExecuteTime": {
     "end_time": "2024-04-28T11:35:04.518755Z",
     "start_time": "2024-04-28T11:35:04.514351Z"
    },
    "hidden": true
   },
   "outputs": [
    {
     "name": "stdout",
     "output_type": "stream",
     "text": [
      "torch.Size([2, 3])\n",
      "torch.Size([2, 1])\n",
      "\n"
     ]
    },
    {
     "data": {
      "text/plain": [
       "tensor([[ 4,  5,  6],\n",
       "        [ 8,  9, 13]])"
      ]
     },
     "execution_count": 69,
     "metadata": {},
     "output_type": "execute_result"
    }
   ],
   "source": [
    "a=T([\n",
    "    [1,2,3],\n",
    "    [4,5,9]\n",
    "    \n",
    "])\n",
    "print(a.shape)\n",
    "b=T([\n",
    "    [3],\n",
    "    [4]\n",
    "])\n",
    "print(b.shape)\n",
    "print()\n",
    "a+b"
   ]
  },
  {
   "cell_type": "code",
   "execution_count": 68,
   "id": "0ded3e4e",
   "metadata": {
    "ExecuteTime": {
     "end_time": "2024-04-28T11:34:29.996349Z",
     "start_time": "2024-04-28T11:34:29.993283Z"
    },
    "hidden": true
   },
   "outputs": [
    {
     "data": {
      "text/plain": [
       "2"
      ]
     },
     "execution_count": 68,
     "metadata": {},
     "output_type": "execute_result"
    }
   ],
   "source": [
    "a.dim()"
   ]
  },
  {
   "cell_type": "code",
   "execution_count": 73,
   "id": "f0d52682",
   "metadata": {
    "ExecuteTime": {
     "end_time": "2024-04-28T11:37:32.429690Z",
     "start_time": "2024-04-28T11:37:32.426148Z"
    },
    "hidden": true
   },
   "outputs": [
    {
     "name": "stdout",
     "output_type": "stream",
     "text": [
      "torch.Size([3, 3, 1]) 3\n",
      "torch.Size([3, 2]) 2\n"
     ]
    }
   ],
   "source": [
    "r1=rand(3,3,1)\n",
    "r2=rand(3,2)\n",
    "print(r1.shape,r1.dim())\n",
    "print(r2.shape,r2.dim())"
   ]
  },
  {
   "cell_type": "code",
   "execution_count": 74,
   "id": "db2a1f19",
   "metadata": {
    "ExecuteTime": {
     "end_time": "2024-04-28T11:37:37.421521Z",
     "start_time": "2024-04-28T11:37:37.417878Z"
    },
    "hidden": true
   },
   "outputs": [
    {
     "data": {
      "text/plain": [
       "tensor([[[1.1775, 1.5329],\n",
       "         [0.8092, 0.2735],\n",
       "         [0.7232, 0.7428]],\n",
       "\n",
       "        [[0.9563, 1.3116],\n",
       "         [1.0755, 0.5399],\n",
       "         [1.3941, 1.4138]],\n",
       "\n",
       "        [[0.6363, 0.9917],\n",
       "         [0.7163, 0.1806],\n",
       "         [1.4643, 1.4840]]])"
      ]
     },
     "execution_count": 74,
     "metadata": {},
     "output_type": "execute_result"
    }
   ],
   "source": [
    "r1+r2"
   ]
  },
  {
   "cell_type": "code",
   "execution_count": 75,
   "id": "ef4e2fac",
   "metadata": {
    "ExecuteTime": {
     "end_time": "2024-04-28T11:37:57.631777Z",
     "start_time": "2024-04-28T11:37:57.626306Z"
    },
    "hidden": true
   },
   "outputs": [
    {
     "name": "stdout",
     "output_type": "stream",
     "text": [
      "torch.Size([3, 3, 1]) 3\n",
      "torch.Size([3, 3, 2]) 3\n"
     ]
    },
    {
     "data": {
      "text/plain": [
       "tensor([[[0.8817, 0.3420],\n",
       "         [0.3375, 1.2427],\n",
       "         [1.1966, 1.5132]],\n",
       "\n",
       "        [[1.1932, 1.2504],\n",
       "         [1.1608, 1.2614],\n",
       "         [0.5169, 0.9112]],\n",
       "\n",
       "        [[1.8311, 1.8202],\n",
       "         [1.2181, 0.5456],\n",
       "         [0.9218, 0.9795]]])"
      ]
     },
     "execution_count": 75,
     "metadata": {},
     "output_type": "execute_result"
    }
   ],
   "source": [
    "r1=rand(3,3,1)\n",
    "r2=rand(3,3,2)\n",
    "print(r1.shape,r1.dim())\n",
    "print(r2.shape,r2.dim())\n",
    "r1+r2"
   ]
  },
  {
   "cell_type": "code",
   "execution_count": 76,
   "id": "46c85149",
   "metadata": {
    "ExecuteTime": {
     "end_time": "2024-04-28T11:39:08.080529Z",
     "start_time": "2024-04-28T11:39:08.042042Z"
    },
    "hidden": true
   },
   "outputs": [
    {
     "name": "stdout",
     "output_type": "stream",
     "text": [
      "torch.Size([3, 2, 1]) 3\n",
      "torch.Size([3, 3, 2]) 3\n"
     ]
    },
    {
     "ename": "RuntimeError",
     "evalue": "The size of tensor a (2) must match the size of tensor b (3) at non-singleton dimension 1",
     "output_type": "error",
     "traceback": [
      "\u001b[0;31m---------------------------------------------------------------------------\u001b[0m",
      "\u001b[0;31mRuntimeError\u001b[0m                              Traceback (most recent call last)",
      "Cell \u001b[0;32mIn[76], line 6\u001b[0m\n\u001b[1;32m      4\u001b[0m \u001b[38;5;28mprint\u001b[39m(r1\u001b[38;5;241m.\u001b[39mshape,r1\u001b[38;5;241m.\u001b[39mdim())\n\u001b[1;32m      5\u001b[0m \u001b[38;5;28mprint\u001b[39m(r2\u001b[38;5;241m.\u001b[39mshape,r2\u001b[38;5;241m.\u001b[39mdim())\n\u001b[0;32m----> 6\u001b[0m r1\u001b[38;5;241m+\u001b[39mr2\n",
      "\u001b[0;31mRuntimeError\u001b[0m: The size of tensor a (2) must match the size of tensor b (3) at non-singleton dimension 1"
     ]
    }
   ],
   "source": [
    "# The starting dimensions must be same of both tensors\n",
    "r1=rand(3,2,1)\n",
    "r2=rand(3,3,2)\n",
    "print(r1.shape,r1.dim())\n",
    "print(r2.shape,r2.dim())\n",
    "r1+r2"
   ]
  },
  {
   "cell_type": "markdown",
   "id": "f12c301e",
   "metadata": {
    "heading_collapsed": true,
    "hidden": true
   },
   "source": [
    "## Mathematical Operations"
   ]
  },
  {
   "cell_type": "code",
   "execution_count": 77,
   "id": "a608e517",
   "metadata": {
    "ExecuteTime": {
     "end_time": "2024-04-28T11:40:27.367764Z",
     "start_time": "2024-04-28T11:40:27.363168Z"
    },
    "hidden": true
   },
   "outputs": [
    {
     "name": "stdout",
     "output_type": "stream",
     "text": [
      "tensor([[-0.6132, -0.3078],\n",
      "        [-0.3384, -0.1947]])\n"
     ]
    }
   ],
   "source": [
    "r=rand(2,2)-0.5*2 # values between -1 and 1\n",
    "print(r)"
   ]
  },
  {
   "cell_type": "code",
   "execution_count": 78,
   "id": "d347044f",
   "metadata": {
    "ExecuteTime": {
     "end_time": "2024-04-28T11:40:42.998816Z",
     "start_time": "2024-04-28T11:40:42.993724Z"
    },
    "hidden": true
   },
   "outputs": [
    {
     "data": {
      "text/plain": [
       "tensor([[0.6132, 0.3078],\n",
       "        [0.3384, 0.1947]])"
      ]
     },
     "execution_count": 78,
     "metadata": {},
     "output_type": "execute_result"
    }
   ],
   "source": [
    "from torch import abs\n",
    "abs(r)"
   ]
  },
  {
   "cell_type": "code",
   "execution_count": 79,
   "id": "33773313",
   "metadata": {
    "ExecuteTime": {
     "end_time": "2024-04-28T11:41:15.364672Z",
     "start_time": "2024-04-28T11:41:15.338339Z"
    },
    "hidden": true
   },
   "outputs": [
    {
     "data": {
      "text/plain": [
       "tensor(0.0152)"
      ]
     },
     "execution_count": 79,
     "metadata": {},
     "output_type": "execute_result"
    }
   ],
   "source": [
    "from torch import det\n",
    "det(r)"
   ]
  },
  {
   "cell_type": "code",
   "execution_count": 81,
   "id": "c50d22b9",
   "metadata": {
    "ExecuteTime": {
     "end_time": "2024-04-28T11:42:06.068676Z",
     "start_time": "2024-04-28T11:42:06.034318Z"
    },
    "hidden": true
   },
   "outputs": [
    {
     "data": {
      "text/plain": [
       "torch.return_types.svd(\n",
       "U=tensor([[-0.8693, -0.4943],\n",
       "        [-0.4943,  0.8693]]),\n",
       "S=tensor([0.7892, 0.0193]),\n",
       "V=tensor([[ 0.8874,  0.4610],\n",
       "        [ 0.4610, -0.8874]]))"
      ]
     },
     "execution_count": 81,
     "metadata": {},
     "output_type": "execute_result"
    }
   ],
   "source": [
    "from torch import svd # single value decomposition\n",
    "svd(r)"
   ]
  },
  {
   "cell_type": "code",
   "execution_count": 82,
   "id": "acbb4762",
   "metadata": {
    "ExecuteTime": {
     "end_time": "2024-04-28T11:43:04.417937Z",
     "start_time": "2024-04-28T11:43:04.411423Z"
    },
    "hidden": true
   },
   "outputs": [
    {
     "data": {
      "text/plain": [
       "tensor(0.1775)"
      ]
     },
     "execution_count": 82,
     "metadata": {},
     "output_type": "execute_result"
    }
   ],
   "source": [
    "from torch import std\n",
    "std(r)"
   ]
  },
  {
   "cell_type": "code",
   "execution_count": 83,
   "id": "65733391",
   "metadata": {
    "ExecuteTime": {
     "end_time": "2024-04-28T11:43:16.160075Z",
     "start_time": "2024-04-28T11:43:16.155325Z"
    },
    "hidden": true
   },
   "outputs": [
    {
     "data": {
      "text/plain": [
       "(tensor(0.1775), tensor(-0.3635))"
      ]
     },
     "execution_count": 83,
     "metadata": {},
     "output_type": "execute_result"
    }
   ],
   "source": [
    "from torch import std_mean\n",
    "std_mean(r)"
   ]
  },
  {
   "cell_type": "code",
   "execution_count": 86,
   "id": "f3ef527b",
   "metadata": {
    "ExecuteTime": {
     "end_time": "2024-04-28T11:44:03.136101Z",
     "start_time": "2024-04-28T11:44:03.130920Z"
    },
    "hidden": true
   },
   "outputs": [
    {
     "name": "stdout",
     "output_type": "stream",
     "text": [
      "tensor(-0.1947)\n",
      "tensor(-0.6132)\n",
      "tensor(-0.3635)\n"
     ]
    }
   ],
   "source": [
    "from torch import max \n",
    "from torch import min\n",
    "from torch import mean\n",
    "print(max(r))\n",
    "print(min(r))\n",
    "print(mean(r))"
   ]
  },
  {
   "cell_type": "markdown",
   "id": "ace37e6c",
   "metadata": {
    "heading_collapsed": true,
    "hidden": true
   },
   "source": [
    "## Graphs and Auto-Grad "
   ]
  },
  {
   "cell_type": "markdown",
   "id": "796d984a",
   "metadata": {
    "heading_collapsed": true,
    "hidden": true
   },
   "source": [
    "### Computational Graph"
   ]
  },
  {
   "cell_type": "markdown",
   "id": "0377aa30",
   "metadata": {
    "hidden": true
   },
   "source": [
    "- Provides a structured way to representing mathematical expression and operations in the form of a graph, where nodes represent the operations or variables, and edges represent the dependencies between those operations"
   ]
  },
  {
   "attachments": {
    "computational-graph.png": {
     "image/png": "[encoded data removed]"
    }
   },
   "cell_type": "markdown",
   "id": "1382f15c",
   "metadata": {
    "ExecuteTime": {
     "end_time": "2024-04-28T16:01:24.131604Z",
     "start_time": "2024-04-28T16:01:24.118561Z"
    },
    "hidden": true
   },
   "source": [
    "![computational-graph.png](attachment:computational-graph.png)"
   ]
  },
  {
   "cell_type": "markdown",
   "id": "2085fc71",
   "metadata": {
    "hidden": true
   },
   "source": [
    "#### Dynamic Graph"
   ]
  },
  {
   "cell_type": "markdown",
   "id": "eab859d0",
   "metadata": {
    "hidden": true
   },
   "source": [
    "- This graph is built on the go.\n",
    "- In an interpreted language, (like dynamic graph) code is run line-by-line, offering flexibility to change the code structure on the fly. This highlights the trade-off between execution efficiency and flexibility in model developmen"
   ]
  },
  {
   "cell_type": "markdown",
   "id": "8093d5a6",
   "metadata": {
    "hidden": true
   },
   "source": [
    "#### Static Graph"
   ]
  },
  {
   "cell_type": "markdown",
   "id": "1dfde13b",
   "metadata": {
    "hidden": true
   },
   "source": [
    "- The graph of operations is defined and compiled before any actual values are processed.\n",
    "- In Compiled language (like Static Graph), the entire code is compiled before execution, allowing for optimizations but requires whole structure to be defined upfront."
   ]
  },
  {
   "cell_type": "markdown",
   "id": "c5d3344d",
   "metadata": {
    "heading_collapsed": true,
    "hidden": true
   },
   "source": [
    "### Advantages of Computational Graph"
   ]
  },
  {
   "cell_type": "markdown",
   "id": "f3cebe4d",
   "metadata": {
    "hidden": true
   },
   "source": [
    "<ol>\n",
    "    <li>\n",
    "        <strong style='color:green;'>Simplified Representation</strong>\n",
    "        <p>Provide a simplified and a clear and a specified representation of complex mathematical operations and the relationship between them.</p>\n",
    "    </li>\n",
    "    <li>\n",
    "    <strong style='color:green;'>Faciliates Automatic differentiation</strong>\n",
    "        <p>Computational Graph enables automatic differentiation, which is crucial for training Neural\n",
    "        Network. By tracing the graph from output back to inputs, framework can automatically compute gradients using the chain rule, simplifying the process of optimization model parameters.</p>\n",
    "    </li>\n",
    "    <li>\n",
    "    <strong style='color:green;'>Optimization Oppertunities</strong>\n",
    "        <p>These graphs allow for various optimization at both the operation level and the graph level.\n",
    "        Operation that are Independent can be executed n parallel and contain sub-expressions that\n",
    "        are computed multiple times can be identified and optimized to avoid redundant computations.</p>\n",
    "    </li>\n",
    "    <li>\n",
    "    <strong style='color:green;'>Efficient Execution on Diverse Hardware</strong>\n",
    "        <p>These graphs enable efficient mapping of operations to diverse Hardware accelerators like GPUs and \n",
    "            TPUs Frameworks can use information from the graph to better Schedule operations and manage memory leading to efficient execution.</p>\n",
    "    </li>\n",
    "</ol>"
   ]
  },
  {
   "cell_type": "markdown",
   "id": "e124d983",
   "metadata": {
    "heading_collapsed": true,
    "hidden": true
   },
   "source": [
    "### Automatic Differentiation"
   ]
  },
  {
   "cell_type": "markdown",
   "id": "45faa72d",
   "metadata": {
    "hidden": true
   },
   "source": [
    "<p> Compuational Graph structure is helpful in automatic differentiation \n",
    "because it clearly defines the Sequence of Operations performed during the forward pass of a \n",
    " computation.</p>\n",
    "<p>When the Backward pass is initiated for gradient computation, the graph helps in efficiently applying\n",
    "the chain rule to propagate Gradient backward through the network is this Backward traversal through\n",
    "the graph allows the calculation of Partial derivatives of the operation to propagate Backward.</p>"
   ]
  },
  {
   "cell_type": "markdown",
   "id": "e4bb0be9",
   "metadata": {
    "hidden": true
   },
   "source": [
    "## Auto-Grad"
   ]
  },
  {
   "cell_type": "markdown",
   "id": "9d56089d",
   "metadata": {
    "hidden": true
   },
   "source": [
    "<p>The <strong>auto-grad</strong> package in PyTorch is a fundamental component designed to automate the \n",
    "computation of Backward passes in neural network i.e computing gradients of Tensors.</p>"
   ]
  },
  {
   "cell_type": "markdown",
   "id": "7ed1efc1",
   "metadata": {
    "heading_collapsed": true,
    "hidden": true
   },
   "source": [
    "### Core Functionality"
   ]
  },
  {
   "cell_type": "markdown",
   "id": "1ed36c65",
   "metadata": {
    "hidden": true
   },
   "source": [
    "<ol>\n",
    "    <li>\n",
    "        <strong style='color:green;'>Automatic Differentiation</strong>\n",
    "        <p>The primary utility of auto-grad is its ability to provide automatic differentiation for all operations on Tensors.</p>\n",
    "        <p>Each tensor has an attribute called <strong>grad-fn</strong> that reference\n",
    "        a function that has created the tensor (except the tensor created directly by the User,\n",
    "        which has 'None' as there 'grad-fn'</p>\n",
    "    </li>\n",
    "    <li>\n",
    "        <strong style='color:green;'>Gradient Computation</strong>\n",
    "        <p>When we perform operations on tensor, Pytorch dynamically creates a graph representing these operations in terms of the tensors and their dependencies.</p>\n",
    "        <p>When <strong>.backward</strong> method on a tensor is called, Pytorch\n",
    "        computes the gradients of that tensor w.r.t the Scalar value usually a loss.</p>\n",
    "    </li>\n",
    "</ol>"
   ]
  },
  {
   "cell_type": "markdown",
   "id": "b2e55a61",
   "metadata": {
    "heading_collapsed": true,
    "hidden": true
   },
   "source": [
    "### How it works"
   ]
  },
  {
   "cell_type": "markdown",
   "id": "9b0471ac",
   "metadata": {
    "hidden": true
   },
   "source": [
    "<ol>\n",
    "    <li>\n",
    "        <strong style='color:green;'>Create Tensors</strong>\n",
    "        <p>Define tensors with <strong>requries_grad=True</strong>\n",
    "        if you need gradients with respect to these tensors during optimization.By default,\n",
    "        tensors have.. <strong>requries_grad=False</strong> </p>\n",
    "    </li>\n",
    "    <li>\n",
    "        <strong style='color:green;'>Define Operations</strong>\n",
    "        <p>Perform operations on these tensors PyTorch tracks these operations to construct the \n",
    "        computation graph. The graph edges store the gradients functions of each operation.</p>\n",
    "    </li>\n",
    "    <li>\n",
    "        <strong style='color:green;'>Gradient Calculation</strong>\n",
    "        <p>Once the forward pass is completed (computations for output) invoke the .backward() method on the\n",
    "        output tensor (loss in neural networks).This will trigger the backward pass, and PyTorch computes\n",
    "        the gradients from the end of the graph (where the loss is) to the inputs.</p>\n",
    "    </li>\n",
    "    <li>\n",
    "        <strong style='color:green;'>Update Weights</strong>\n",
    "        <p>Finnaly, use the gradients stored in grad attributes of tensors (weights of the model)\n",
    "        to update the weights.</p>\n",
    "    </li>\n",
    "</ol>"
   ]
  },
  {
   "cell_type": "markdown",
   "id": "e4273e3a",
   "metadata": {
    "heading_collapsed": true,
    "hidden": true
   },
   "source": [
    "### Benefits"
   ]
  },
  {
   "cell_type": "markdown",
   "id": "7aee062b",
   "metadata": {
    "hidden": true
   },
   "source": [
    "<ol>\n",
    "    <li>\n",
    "        <strong style='color:green;'>Efficiency</strong>\n",
    "        <p>The use of dynamic compuation graphs (define-by-run) allows for efficient and intuitive \n",
    "        gradient calculations.</p>\n",
    "    </li>\n",
    "    <li>\n",
    "        <strong style='color:green;'>Flexibilility</strong>\n",
    "        <p>Auto-grad supports complex dynamic architectures that are changeable as you run the model,\n",
    "        which fits well with Python's Programming sytle.</p>\n",
    "    </li>\n",
    "</ol>"
   ]
  },
  {
   "cell_type": "markdown",
   "id": "b2786049",
   "metadata": {
    "heading_collapsed": true,
    "hidden": true
   },
   "source": [
    "### Coding"
   ]
  },
  {
   "cell_type": "code",
   "execution_count": 6,
   "id": "ca13136a",
   "metadata": {
    "ExecuteTime": {
     "end_time": "2024-04-29T16:13:06.800566Z",
     "start_time": "2024-04-29T16:13:06.448760Z"
    },
    "hidden": true
   },
   "outputs": [],
   "source": [
    "import torch\n",
    "import torch.nn as nn\n",
    "import matplotlib.pyplot as plt\n",
    "import math"
   ]
  },
  {
   "cell_type": "code",
   "execution_count": null,
   "id": "7d725b02",
   "metadata": {
    "ExecuteTime": {
     "end_time": "2024-04-29T05:25:37.869209Z",
     "start_time": "2024-04-29T05:25:37.864899Z"
    },
    "hidden": true
   },
   "outputs": [],
   "source": [
    "# tensor with evenly spaced values on interva [0,2pi]\n",
    "a=torch.linspace(0,2*math.pi,25,requires_grad=True)\n",
    "a"
   ]
  },
  {
   "cell_type": "markdown",
   "id": "cbdc4392",
   "metadata": {
    "hidden": true
   },
   "source": [
    "\n",
    "```python\n",
    "required_grad=True\n",
    "```\n",
    "We are telling PyTorch that we want to compute gradients w.r.t that tensor during the backward pass\n",
    "and it signals PyTorch that all the operations on this tensor should be tracked.\\\n",
    "This means that in every computaion that follows, autograd will be accumulating the history of the computation in the output tensors of that computation."
   ]
  },
  {
   "cell_type": "code",
   "execution_count": 8,
   "id": "be0f9f31",
   "metadata": {
    "ExecuteTime": {
     "end_time": "2024-04-29T05:30:39.201791Z",
     "start_time": "2024-04-29T05:30:39.197442Z"
    },
    "hidden": true
   },
   "outputs": [
    {
     "data": {
      "text/plain": [
       "tensor([0.0000, 0.2618, 0.5236, 0.7854, 1.0472, 1.3090, 1.5708, 1.8326, 2.0944,\n",
       "        2.3562, 2.6180, 2.8798, 3.1416, 3.4034, 3.6652, 3.9270, 4.1888, 4.4506,\n",
       "        4.7124, 4.9742, 5.2360, 5.4978, 5.7596, 6.0214, 6.2832])"
      ]
     },
     "execution_count": 8,
     "metadata": {},
     "output_type": "execute_result"
    }
   ],
   "source": [
    "a.detach()"
   ]
  },
  {
   "cell_type": "markdown",
   "id": "5ab96b5e",
   "metadata": {
    "hidden": true
   },
   "source": [
    "```python\n",
    "a.detach()\n",
    "```\n",
    "This is useful when you want to perform operations on a tensor but you don't want those operations to be part\n",
    "of the gradient computation."
   ]
  },
  {
   "cell_type": "code",
   "execution_count": 9,
   "id": "1582af46",
   "metadata": {
    "ExecuteTime": {
     "end_time": "2024-04-29T05:34:12.712035Z",
     "start_time": "2024-04-29T05:34:12.697905Z"
    },
    "hidden": true
   },
   "outputs": [
    {
     "name": "stdout",
     "output_type": "stream",
     "text": [
      "tensor([ 0.0000e+00,  2.5882e-01,  5.0000e-01,  7.0711e-01,  8.6603e-01,\n",
      "         9.6593e-01,  1.0000e+00,  9.6593e-01,  8.6603e-01,  7.0711e-01,\n",
      "         5.0000e-01,  2.5882e-01, -8.7423e-08, -2.5882e-01, -5.0000e-01,\n",
      "        -7.0711e-01, -8.6603e-01, -9.6593e-01, -1.0000e+00, -9.6593e-01,\n",
      "        -8.6603e-01, -7.0711e-01, -5.0000e-01, -2.5882e-01,  1.7485e-07],\n",
      "       grad_fn=<SinBackward0>)\n"
     ]
    }
   ],
   "source": [
    "b=torch.sin(a)\n",
    "print(b)"
   ]
  },
  {
   "cell_type": "markdown",
   "id": "6e15df6e",
   "metadata": {
    "hidden": true
   },
   "source": [
    "Here tensor ```b``` has indicator that it is tracking its computation history i.e ```SinBackward```\\\n",
    "```grad_fn``` gives us a hint that when we execute the backpropagation step and compute graients, we'll need to\n",
    "compute the derivative of $sin(x) \\ \\ \\forall$ tensor inputs."
   ]
  },
  {
   "cell_type": "code",
   "execution_count": 11,
   "id": "c89ebd4f",
   "metadata": {
    "ExecuteTime": {
     "end_time": "2024-04-29T05:35:16.414857Z",
     "start_time": "2024-04-29T05:35:16.287705Z"
    },
    "hidden": true
   },
   "outputs": [
    {
     "data": {
      "image/png": "[encoded data removed]",
      "text/plain": [
       "<Figure size 640x480 with 1 Axes>"
      ]
     },
     "metadata": {},
     "output_type": "display_data"
    }
   ],
   "source": [
    "plt.plot(a.detach(),b.detach());"
   ]
  },
  {
   "cell_type": "code",
   "execution_count": 12,
   "id": "673bb427",
   "metadata": {
    "ExecuteTime": {
     "end_time": "2024-04-29T05:47:59.069507Z",
     "start_time": "2024-04-29T05:47:59.065554Z"
    },
    "hidden": true
   },
   "outputs": [
    {
     "name": "stdout",
     "output_type": "stream",
     "text": [
      "tensor([ 0.0000e+00,  5.1764e-01,  1.0000e+00,  1.4142e+00,  1.7321e+00,\n",
      "         1.9319e+00,  2.0000e+00,  1.9319e+00,  1.7321e+00,  1.4142e+00,\n",
      "         1.0000e+00,  5.1764e-01, -1.7485e-07, -5.1764e-01, -1.0000e+00,\n",
      "        -1.4142e+00, -1.7321e+00, -1.9319e+00, -2.0000e+00, -1.9319e+00,\n",
      "        -1.7321e+00, -1.4142e+00, -1.0000e+00, -5.1764e-01,  3.4969e-07],\n",
      "       grad_fn=<MulBackward0>)\n"
     ]
    }
   ],
   "source": [
    "# Performing Multiplication operation\n",
    "c=2*b # 2sin(x)\n",
    "print(c)"
   ]
  },
  {
   "cell_type": "code",
   "execution_count": 13,
   "id": "010f28c1",
   "metadata": {
    "ExecuteTime": {
     "end_time": "2024-04-29T05:49:23.745327Z",
     "start_time": "2024-04-29T05:49:23.737349Z"
    },
    "hidden": true
   },
   "outputs": [
    {
     "name": "stdout",
     "output_type": "stream",
     "text": [
      "tensor([ 1.0000e+00,  1.5176e+00,  2.0000e+00,  2.4142e+00,  2.7321e+00,\n",
      "         2.9319e+00,  3.0000e+00,  2.9319e+00,  2.7321e+00,  2.4142e+00,\n",
      "         2.0000e+00,  1.5176e+00,  1.0000e+00,  4.8236e-01, -3.5763e-07,\n",
      "        -4.1421e-01, -7.3205e-01, -9.3185e-01, -1.0000e+00, -9.3185e-01,\n",
      "        -7.3205e-01, -4.1421e-01,  4.7684e-07,  4.8236e-01,  1.0000e+00],\n",
      "       grad_fn=<AddBackward0>)\n"
     ]
    }
   ],
   "source": [
    "# Performing Addition Operation\n",
    "d=c+1 # 2sin(x)+1\n",
    "print(d)"
   ]
  },
  {
   "cell_type": "markdown",
   "id": "b555c4fb",
   "metadata": {
    "hidden": true
   },
   "source": [
    "Finally, we compute a single element output. Since when  you call ```.backward()``` method on a tensor with \n",
    "```no arguments```, it expects the calling tensor to contain only a single element, as is the case when computing as ```loss function```"
   ]
  },
  {
   "cell_type": "code",
   "execution_count": 15,
   "id": "447bb1bb",
   "metadata": {
    "ExecuteTime": {
     "end_time": "2024-04-29T05:52:18.887882Z",
     "start_time": "2024-04-29T05:52:18.883511Z"
    },
    "hidden": true
   },
   "outputs": [
    {
     "name": "stdout",
     "output_type": "stream",
     "text": [
      "tensor(25., grad_fn=<SumBackward0>)\n"
     ]
    }
   ],
   "source": [
    "s=d.sum()\n",
    "print(s)"
   ]
  },
  {
   "cell_type": "markdown",
   "id": "5de3f675",
   "metadata": {
    "hidden": true
   },
   "source": [
    "Each ```grad_fn``` stored with our tensors allows us to walk the computation all the way back to its inputs\n",
    "with its ```nex_functions``` property."
   ]
  },
  {
   "cell_type": "code",
   "execution_count": 30,
   "id": "33983a56",
   "metadata": {
    "ExecuteTime": {
     "end_time": "2024-04-29T06:02:56.703720Z",
     "start_time": "2024-04-29T06:02:56.700407Z"
    },
    "hidden": true
   },
   "outputs": [
    {
     "name": "stdout",
     "output_type": "stream",
     "text": [
      "d: <AddBackward0 object at 0x75a8eafad4b0>\n",
      "1: ((<MulBackward0 object at 0x75a8eb373eb0>, 0), (None, 0))\n",
      "2: ((<SinBackward0 object at 0x75a8eb372c80>, 0), (None, 0))\n",
      "3: ((<AccumulateGrad object at 0x75a8eb31b880>, 0),)\n",
      "4: ()\n",
      "\n",
      "c: <MulBackward0 object at 0x75a8eb373eb0>\n",
      "b: <SinBackward0 object at 0x75a8eb372c80>\n",
      "a: None\n"
     ]
    }
   ],
   "source": [
    "print(f\"d: {d.grad_fn}\")\n",
    "print(f\"1: {d.grad_fn.next_functions}\")\n",
    "print(f\"2: {d.grad_fn.next_functions[0][0].next_functions}\")\n",
    "print(f\"3: {d.grad_fn.next_functions[0][0].next_functions[0][0].next_functions}\")\n",
    "print(f\"4: {d.grad_fn.next_functions[0][0].next_functions[0][0].next_functions[0][0].next_functions}\")\n",
    "print()\n",
    "print(f\"c: {c.grad_fn}\")\n",
    "print(f\"b: {b.grad_fn}\")\n",
    "print(f\"a: {a.grad_fn}\")"
   ]
  },
  {
   "cell_type": "markdown",
   "id": "0f7c759f",
   "metadata": {
    "hidden": true
   },
   "source": [
    "We call the ```backward()``` method on the output and then check the input's ```grad``` property to inspect the gradients."
   ]
  },
  {
   "cell_type": "code",
   "execution_count": 33,
   "id": "339cf4a1",
   "metadata": {
    "ExecuteTime": {
     "end_time": "2024-04-29T06:25:55.551247Z",
     "start_time": "2024-04-29T06:25:55.426502Z"
    },
    "hidden": true
   },
   "outputs": [
    {
     "name": "stdout",
     "output_type": "stream",
     "text": [
      "tensor([ 2.0000e+00,  1.9319e+00,  1.7321e+00,  1.4142e+00,  1.0000e+00,\n",
      "         5.1764e-01, -8.7423e-08, -5.1764e-01, -1.0000e+00, -1.4142e+00,\n",
      "        -1.7321e+00, -1.9319e+00, -2.0000e+00, -1.9319e+00, -1.7321e+00,\n",
      "        -1.4142e+00, -1.0000e+00, -5.1764e-01,  2.3850e-08,  5.1764e-01,\n",
      "         1.0000e+00,  1.4142e+00,  1.7321e+00,  1.9319e+00,  2.0000e+00])\n"
     ]
    },
    {
     "data": {
      "text/plain": [
       "[<matplotlib.lines.Line2D at 0x75a8eb8d8c10>]"
      ]
     },
     "execution_count": 33,
     "metadata": {},
     "output_type": "execute_result"
    },
    {
     "data": {
      "image/png": "[encoded data removed]",
      "text/plain": [
       "<Figure size 640x480 with 1 Axes>"
      ]
     },
     "metadata": {},
     "output_type": "display_data"
    }
   ],
   "source": [
    "s.backward()\n",
    "print(a.grad)\n",
    "plt.plot(a.detach(),a.grad.detach())"
   ]
  },
  {
   "cell_type": "markdown",
   "id": "e10d0638",
   "metadata": {
    "heading_collapsed": true,
    "hidden": true
   },
   "source": [
    "### Autograd in Neural Network Training"
   ]
  },
  {
   "cell_type": "code",
   "execution_count": 2,
   "id": "fe77c4cb",
   "metadata": {
    "ExecuteTime": {
     "end_time": "2024-04-29T16:12:51.831376Z",
     "start_time": "2024-04-29T16:12:51.829018Z"
    },
    "hidden": true
   },
   "outputs": [],
   "source": [
    "batch_size=16\n",
    "dim_in=100\n",
    "hidden_size=100\n",
    "dim_out=10"
   ]
  },
  {
   "cell_type": "code",
   "execution_count": 3,
   "id": "099fa6b3",
   "metadata": {
    "ExecuteTime": {
     "end_time": "2024-04-29T16:12:54.796436Z",
     "start_time": "2024-04-29T16:12:54.774286Z"
    },
    "hidden": true
   },
   "outputs": [],
   "source": [
    "torch.manual_seed(42)\n",
    "X=torch.randn(batch_size,dim_in,requires_grad=False)\n",
    "Y=torch.randn(batch_size,dim_out,requires_grad=False)"
   ]
  },
  {
   "cell_type": "code",
   "execution_count": 4,
   "id": "61c9cd3b",
   "metadata": {
    "ExecuteTime": {
     "end_time": "2024-04-29T16:12:55.554201Z",
     "start_time": "2024-04-29T16:12:55.548955Z"
    },
    "hidden": true
   },
   "outputs": [
    {
     "data": {
      "text/plain": [
       "(torch.Size([16, 100]), torch.Size([16, 10]))"
      ]
     },
     "execution_count": 4,
     "metadata": {},
     "output_type": "execute_result"
    }
   ],
   "source": [
    "X.shape,Y.shape"
   ]
  },
  {
   "cell_type": "code",
   "execution_count": 7,
   "id": "d0789b32",
   "metadata": {
    "ExecuteTime": {
     "end_time": "2024-04-29T16:13:10.600687Z",
     "start_time": "2024-04-29T16:13:10.585630Z"
    },
    "hidden": true
   },
   "outputs": [],
   "source": [
    "class Model(nn.Module):\n",
    "    def __init__(self):\n",
    "        super().__init__()\n",
    "        self.layer1=nn.Linear(100,100)\n",
    "        self.sigmoid=nn.Sigmoid()\n",
    "        self.layer2=nn.Linear(100,10)\n",
    "    def forward(self,x):\n",
    "        x=self.layer1(x)\n",
    "        x=self.sigmoid(x)\n",
    "        x=self.layer2(x)\n",
    "        return x\n",
    "model=Model()"
   ]
  },
  {
   "cell_type": "markdown",
   "id": "8985bc8b",
   "metadata": {
    "hidden": true
   },
   "source": [
    "One thing to notice is that we need not to specify ```requires_grad=True``` for the model's layers since\n",
    "withing a subclass of ```nn.Module```,it is assumeed that we want to track gradients on the layer's weights for learning."
   ]
  },
  {
   "cell_type": "markdown",
   "id": "b603960b",
   "metadata": {
    "ExecuteTime": {
     "end_time": "2024-04-29T06:43:17.908909Z",
     "start_time": "2024-04-29T06:43:17.534172Z"
    },
    "heading_collapsed": true,
    "hidden": true
   },
   "source": [
    "### Analyze out layers weights"
   ]
  },
  {
   "cell_type": "code",
   "execution_count": 8,
   "id": "d5448349",
   "metadata": {
    "ExecuteTime": {
     "end_time": "2024-04-29T16:13:12.724984Z",
     "start_time": "2024-04-29T16:13:12.666895Z"
    },
    "hidden": true
   },
   "outputs": [
    {
     "name": "stdout",
     "output_type": "stream",
     "text": [
      "torch.Size([100, 100])\n",
      "100\n",
      "tensor([-0.0690, -0.0590, -0.0991, -0.0180, -0.0908, -0.0335,  0.0304,  0.0707,\n",
      "         0.0557,  0.0555], grad_fn=<SliceBackward0>)\n"
     ]
    }
   ],
   "source": [
    "print(model.layer1.weight.shape)\n",
    "print(model.layer1.weight.shape[0])\n",
    "print(model.layer1.weight[0][0:10])"
   ]
  },
  {
   "cell_type": "markdown",
   "id": "b8a0bca3",
   "metadata": {
    "hidden": true
   },
   "source": [
    "Let's see how this changes when we run through one training batch. For a loss function,\n",
    "            we'll just use the square of the Euclidean distance between our ```prediction``` and the ```ideal_output```, and we'll use a basic stochastic gradient decent optimizer (SGD)."
   ]
  },
  {
   "cell_type": "code",
   "execution_count": 9,
   "id": "ff1db3b2",
   "metadata": {
    "ExecuteTime": {
     "end_time": "2024-04-29T16:13:15.399351Z",
     "start_time": "2024-04-29T16:13:14.043361Z"
    },
    "hidden": true
   },
   "outputs": [
    {
     "name": "stdout",
     "output_type": "stream",
     "text": [
      "tensor(169.9731, grad_fn=<SumBackward0>)\n"
     ]
    }
   ],
   "source": [
    "optimizer=torch.optim.SGD(model.parameters(),lr=0.001)\n",
    "prediction=model(X)\n",
    "loss=(Y-prediction).pow(2).sum() # mean squared error\n",
    "print(loss)"
   ]
  },
  {
   "cell_type": "code",
   "execution_count": 10,
   "id": "86c3dee7",
   "metadata": {
    "ExecuteTime": {
     "end_time": "2024-04-29T16:13:18.567949Z",
     "start_time": "2024-04-29T16:13:18.548377Z"
    },
    "hidden": true
   },
   "outputs": [
    {
     "name": "stdout",
     "output_type": "stream",
     "text": [
      "tensor([-0.0690, -0.0590, -0.0991, -0.0180, -0.0908, -0.0335,  0.0304,  0.0707,\n",
      "         0.0557,  0.0555], grad_fn=<SliceBackward0>)\n",
      "tensor([-0.6092,  0.0218,  0.1235,  0.2599, -0.1831, -0.4217, -0.1907,  0.0267,\n",
      "         0.0226,  0.6305])\n"
     ]
    }
   ],
   "source": [
    "loss.backward()\n",
    "print(model.layer1.weight[0][0:10])\n",
    "print(model.layer1.weight.grad[0][:10])"
   ]
  },
  {
   "cell_type": "markdown",
   "id": "a874aeb2",
   "metadata": {
    "hidden": true
   },
   "source": [
    "We can see that gradients have been computed for each learning weight, but the weghts reamin unchanged,\n",
    "because we haven't run the optimizer yet.The optimizer is responsible for updateing model weights based on the computed gradients."
   ]
  },
  {
   "cell_type": "code",
   "execution_count": 11,
   "id": "b93e4bd6",
   "metadata": {
    "ExecuteTime": {
     "end_time": "2024-04-29T16:15:05.728763Z",
     "start_time": "2024-04-29T16:15:05.724043Z"
    },
    "hidden": true
   },
   "outputs": [],
   "source": [
    "optimizer.step()"
   ]
  },
  {
   "cell_type": "code",
   "execution_count": 12,
   "id": "e4f99121",
   "metadata": {
    "ExecuteTime": {
     "end_time": "2024-04-29T16:15:33.985428Z",
     "start_time": "2024-04-29T16:15:33.980953Z"
    },
    "hidden": true
   },
   "outputs": [
    {
     "name": "stdout",
     "output_type": "stream",
     "text": [
      "tensor([-0.0684, -0.0590, -0.0992, -0.0183, -0.0906, -0.0331,  0.0306,  0.0707,\n",
      "         0.0557,  0.0549], grad_fn=<SliceBackward0>)\n",
      "tensor([-0.6092,  0.0218,  0.1235,  0.2599, -0.1831, -0.4217, -0.1907,  0.0267,\n",
      "         0.0226,  0.6305])\n"
     ]
    }
   ],
   "source": [
    "print(model.layer1.weight[0][:10])\n",
    "print(model.layer1.weight.grad[0][:10])"
   ]
  },
  {
   "cell_type": "markdown",
   "id": "c956503b",
   "metadata": {
    "hidden": true
   },
   "source": [
    "One important thing about the process: After calling ```optimizer.step```, we need to call ```optimizer.zero_grad()```, or else every time we run ```loss.backward()```,the gradients on the learning weights will accumulate."
   ]
  },
  {
   "cell_type": "code",
   "execution_count": 16,
   "id": "50654756",
   "metadata": {
    "ExecuteTime": {
     "end_time": "2024-04-29T16:23:37.540999Z",
     "start_time": "2024-04-29T16:23:37.530652Z"
    },
    "hidden": true
   },
   "outputs": [
    {
     "name": "stdout",
     "output_type": "stream",
     "text": [
      "tensor([-0.6092,  0.0218,  0.1235,  0.2599, -0.1831, -0.4217, -0.1907,  0.0267,\n",
      "         0.0226,  0.6305])\n",
      "tensor([-3.4672,  0.2726,  1.2493,  1.3132, -0.8662, -2.3307, -1.0810,  0.0654,\n",
      "         0.2021,  3.8622])\n"
     ]
    }
   ],
   "source": [
    "print(model.layer1.weight.grad[0][:10])\n",
    "for _ in range(5):\n",
    "    prediction=model(X)\n",
    "    loss=(Y-prediction).pow(2).sum()\n",
    "    loss.backward()\n",
    "print(model.layer1.weight.grad[0][:10])\n",
    "# setting gradients to zero\n",
    "optimizer.zero_grad()\n"
   ]
  },
  {
   "cell_type": "code",
   "execution_count": 17,
   "id": "8ce296d5",
   "metadata": {
    "ExecuteTime": {
     "end_time": "2024-04-29T16:24:04.976512Z",
     "start_time": "2024-04-29T16:24:04.913688Z"
    },
    "hidden": true
   },
   "outputs": [
    {
     "ename": "TypeError",
     "evalue": "'NoneType' object is not subscriptable",
     "output_type": "error",
     "traceback": [
      "\u001b[0;31m---------------------------------------------------------------------------\u001b[0m",
      "\u001b[0;31mTypeError\u001b[0m                                 Traceback (most recent call last)",
      "Cell \u001b[0;32mIn[17], line 2\u001b[0m\n\u001b[1;32m      1\u001b[0m \u001b[38;5;66;03m# error since all the gradients are set to none\u001b[39;00m\n\u001b[0;32m----> 2\u001b[0m \u001b[38;5;28mprint\u001b[39m(model\u001b[38;5;241m.\u001b[39mlayer1\u001b[38;5;241m.\u001b[39mweight\u001b[38;5;241m.\u001b[39mgrad[\u001b[38;5;241m0\u001b[39m][:\u001b[38;5;241m10\u001b[39m])\n",
      "\u001b[0;31mTypeError\u001b[0m: 'NoneType' object is not subscriptable"
     ]
    }
   ],
   "source": [
    "# error since all the gradients are set to none\n",
    "print(model.layer1.weight.grad[0][:10])"
   ]
  },
  {
   "cell_type": "markdown",
   "id": "960030de",
   "metadata": {
    "hidden": true
   },
   "source": [
    "After running the cell above,we can see that after running ```loss.backword``` multiple times, the \n",
    "magnitudes of most of the gradients will be much larger."
   ]
  },
  {
   "cell_type": "markdown",
   "id": "e218bbcd",
   "metadata": {
    "hidden": true
   },
   "source": [
    "### Truning Autograd Off and On"
   ]
  },
  {
   "cell_type": "markdown",
   "id": "9b2e6471",
   "metadata": {
    "hidden": true
   },
   "source": [
    "There are situations where you will need fine-graned control over whether autograd is enabled. There are \n",
    "multiple ways to do this, depending on situation.\\\n",
    "The simplest is to change the ```requires_grad``` flag on a tensor directly."
   ]
  },
  {
   "cell_type": "code",
   "execution_count": 18,
   "id": "ce87f0d2",
   "metadata": {
    "ExecuteTime": {
     "end_time": "2024-04-29T16:35:38.437403Z",
     "start_time": "2024-04-29T16:35:38.431313Z"
    },
    "hidden": true
   },
   "outputs": [
    {
     "name": "stdout",
     "output_type": "stream",
     "text": [
      "tensor([[1., 1., 1.],\n",
      "        [1., 1., 1.]], requires_grad=True)\n",
      "tensor([[2., 2., 2.],\n",
      "        [2., 2., 2.]], grad_fn=<MulBackward0>)\n",
      "tensor([[2., 2., 2.],\n",
      "        [2., 2., 2.]])\n"
     ]
    }
   ],
   "source": [
    "a=torch.ones(2,3,requires_grad=True)\n",
    "print(a)\n",
    "b1=2*a\n",
    "print(b1)\n",
    "a.requires_grad=False\n",
    "b2=2*a\n",
    "print(b2)"
   ]
  },
  {
   "cell_type": "markdown",
   "id": "4a5df3f0",
   "metadata": {
    "hidden": true
   },
   "source": [
    "In the above cell, we see that ```b1``` thas ```grad_fn``` (computation history tracking is On),\n",
    "which is expect, since it was derived from a tensor, ```a``` that had autograd turned on.\\\n",
    "When we trun off autograd explicitly with ```a.requires_grad=False``` computation history is no longer tracked,\n",
    "which we can see when we compute ```b2```.\\\n",
    "If you only need autograd turned off temporaily, a better way is to use the ```torch.no_grad()```"
   ]
  },
  {
   "cell_type": "code",
   "execution_count": 19,
   "id": "0891ef26",
   "metadata": {
    "ExecuteTime": {
     "end_time": "2024-04-29T16:45:08.156513Z",
     "start_time": "2024-04-29T16:45:08.152244Z"
    },
    "hidden": true
   },
   "outputs": [
    {
     "name": "stdout",
     "output_type": "stream",
     "text": [
      "tensor([[5., 5., 5.],\n",
      "        [5., 5., 5.]], grad_fn=<AddBackward0>)\n"
     ]
    }
   ],
   "source": [
    "# method 1\n",
    "a=torch.ones(2,3,requires_grad=True)*2\n",
    "b=torch.ones(2,3,requires_grad=True)*3\n",
    "c1=a+b\n",
    "print(c1)\n",
    "with torch.no_grad():\n",
    "    c2=a+b\n",
    "    "
   ]
  },
  {
   "cell_type": "code",
   "execution_count": 20,
   "id": "b3d2363a",
   "metadata": {
    "ExecuteTime": {
     "end_time": "2024-04-29T16:47:00.630476Z",
     "start_time": "2024-04-29T16:47:00.625422Z"
    },
    "hidden": true
   },
   "outputs": [
    {
     "name": "stdout",
     "output_type": "stream",
     "text": [
      "tensor([[5., 5., 5.],\n",
      "        [5., 5., 5.]], grad_fn=<AddBackward0>)\n",
      "tensor([[5., 5., 5.],\n",
      "        [5., 5., 5.]])\n"
     ]
    }
   ],
   "source": [
    "# As a decorator\n",
    "def add_tensors(x,y):\n",
    "    return x+y\n",
    "@torch.no_grad()\n",
    "def add_tensors1(x,y):\n",
    "    return x+y\n",
    "a=torch.ones(2,3,requires_grad=True)*2\n",
    "b=torch.ones(2,3,requires_grad=True)*3\n",
    "c1=add_tensors(a,b)\n",
    "print(c1)\n",
    "c2=add_tensors1(a,b)\n",
    "print(c2)"
   ]
  },
  {
   "cell_type": "markdown",
   "id": "a5096456",
   "metadata": {},
   "source": [
    "# Feed Forward Neural Network"
   ]
  },
  {
   "cell_type": "code",
   "execution_count": 1,
   "id": "7a88c095",
   "metadata": {
    "ExecuteTime": {
     "end_time": "2024-04-30T19:21:38.484785Z",
     "start_time": "2024-04-30T19:21:36.846813Z"
    }
   },
   "outputs": [],
   "source": [
    "import numpy as np\n",
    "import pandas as pd\n",
    "import matplotlib.pyplot as plt\n",
    "from sklearn.model_selection import train_test_split\n",
    "from sklearn.preprocessing import Normalizer\n",
    "import torch\n",
    "import torch.nn as nn\n",
    "import torch.optim as optim\n",
    "import torch.nn.functional as F\n",
    "from torch.utils.data import DataLoader\n",
    "from torch.utils.data import Dataset"
   ]
  },
  {
   "cell_type": "code",
   "execution_count": 2,
   "id": "cf6362dd",
   "metadata": {
    "ExecuteTime": {
     "end_time": "2024-04-30T19:21:41.470762Z",
     "start_time": "2024-04-30T19:21:38.990306Z"
    }
   },
   "outputs": [],
   "source": [
    " df=pd.read_csv(\"data/raw/mnist_train.csv\")"
   ]
  },
  {
   "cell_type": "code",
   "execution_count": 24,
   "id": "2bc4b8ad",
   "metadata": {
    "ExecuteTime": {
     "end_time": "2024-04-29T19:22:04.377888Z",
     "start_time": "2024-04-29T19:22:04.360461Z"
    }
   },
   "outputs": [
    {
     "data": {
      "text/html": [
       "<div>\n",
       "<style scoped>\n",
       "    .dataframe tbody tr th:only-of-type {\n",
       "        vertical-align: middle;\n",
       "    }\n",
       "\n",
       "    .dataframe tbody tr th {\n",
       "        vertical-align: top;\n",
       "    }\n",
       "\n",
       "    .dataframe thead th {\n",
       "        text-align: right;\n",
       "    }\n",
       "</style>\n",
       "<table border=\"1\" class=\"dataframe\">\n",
       "  <thead>\n",
       "    <tr style=\"text-align: right;\">\n",
       "      <th></th>\n",
       "      <th>label</th>\n",
       "      <th>1x1</th>\n",
       "      <th>1x2</th>\n",
       "      <th>1x3</th>\n",
       "      <th>1x4</th>\n",
       "      <th>1x5</th>\n",
       "      <th>1x6</th>\n",
       "      <th>1x7</th>\n",
       "      <th>1x8</th>\n",
       "      <th>1x9</th>\n",
       "      <th>...</th>\n",
       "      <th>28x19</th>\n",
       "      <th>28x20</th>\n",
       "      <th>28x21</th>\n",
       "      <th>28x22</th>\n",
       "      <th>28x23</th>\n",
       "      <th>28x24</th>\n",
       "      <th>28x25</th>\n",
       "      <th>28x26</th>\n",
       "      <th>28x27</th>\n",
       "      <th>28x28</th>\n",
       "    </tr>\n",
       "  </thead>\n",
       "  <tbody>\n",
       "    <tr>\n",
       "      <th>0</th>\n",
       "      <td>5</td>\n",
       "      <td>0</td>\n",
       "      <td>0</td>\n",
       "      <td>0</td>\n",
       "      <td>0</td>\n",
       "      <td>0</td>\n",
       "      <td>0</td>\n",
       "      <td>0</td>\n",
       "      <td>0</td>\n",
       "      <td>0</td>\n",
       "      <td>...</td>\n",
       "      <td>0</td>\n",
       "      <td>0</td>\n",
       "      <td>0</td>\n",
       "      <td>0</td>\n",
       "      <td>0</td>\n",
       "      <td>0</td>\n",
       "      <td>0</td>\n",
       "      <td>0</td>\n",
       "      <td>0</td>\n",
       "      <td>0</td>\n",
       "    </tr>\n",
       "    <tr>\n",
       "      <th>1</th>\n",
       "      <td>0</td>\n",
       "      <td>0</td>\n",
       "      <td>0</td>\n",
       "      <td>0</td>\n",
       "      <td>0</td>\n",
       "      <td>0</td>\n",
       "      <td>0</td>\n",
       "      <td>0</td>\n",
       "      <td>0</td>\n",
       "      <td>0</td>\n",
       "      <td>...</td>\n",
       "      <td>0</td>\n",
       "      <td>0</td>\n",
       "      <td>0</td>\n",
       "      <td>0</td>\n",
       "      <td>0</td>\n",
       "      <td>0</td>\n",
       "      <td>0</td>\n",
       "      <td>0</td>\n",
       "      <td>0</td>\n",
       "      <td>0</td>\n",
       "    </tr>\n",
       "    <tr>\n",
       "      <th>2</th>\n",
       "      <td>4</td>\n",
       "      <td>0</td>\n",
       "      <td>0</td>\n",
       "      <td>0</td>\n",
       "      <td>0</td>\n",
       "      <td>0</td>\n",
       "      <td>0</td>\n",
       "      <td>0</td>\n",
       "      <td>0</td>\n",
       "      <td>0</td>\n",
       "      <td>...</td>\n",
       "      <td>0</td>\n",
       "      <td>0</td>\n",
       "      <td>0</td>\n",
       "      <td>0</td>\n",
       "      <td>0</td>\n",
       "      <td>0</td>\n",
       "      <td>0</td>\n",
       "      <td>0</td>\n",
       "      <td>0</td>\n",
       "      <td>0</td>\n",
       "    </tr>\n",
       "    <tr>\n",
       "      <th>3</th>\n",
       "      <td>1</td>\n",
       "      <td>0</td>\n",
       "      <td>0</td>\n",
       "      <td>0</td>\n",
       "      <td>0</td>\n",
       "      <td>0</td>\n",
       "      <td>0</td>\n",
       "      <td>0</td>\n",
       "      <td>0</td>\n",
       "      <td>0</td>\n",
       "      <td>...</td>\n",
       "      <td>0</td>\n",
       "      <td>0</td>\n",
       "      <td>0</td>\n",
       "      <td>0</td>\n",
       "      <td>0</td>\n",
       "      <td>0</td>\n",
       "      <td>0</td>\n",
       "      <td>0</td>\n",
       "      <td>0</td>\n",
       "      <td>0</td>\n",
       "    </tr>\n",
       "    <tr>\n",
       "      <th>4</th>\n",
       "      <td>9</td>\n",
       "      <td>0</td>\n",
       "      <td>0</td>\n",
       "      <td>0</td>\n",
       "      <td>0</td>\n",
       "      <td>0</td>\n",
       "      <td>0</td>\n",
       "      <td>0</td>\n",
       "      <td>0</td>\n",
       "      <td>0</td>\n",
       "      <td>...</td>\n",
       "      <td>0</td>\n",
       "      <td>0</td>\n",
       "      <td>0</td>\n",
       "      <td>0</td>\n",
       "      <td>0</td>\n",
       "      <td>0</td>\n",
       "      <td>0</td>\n",
       "      <td>0</td>\n",
       "      <td>0</td>\n",
       "      <td>0</td>\n",
       "    </tr>\n",
       "  </tbody>\n",
       "</table>\n",
       "<p>5 rows × 785 columns</p>\n",
       "</div>"
      ],
      "text/plain": [
       "   label  1x1  1x2  1x3  1x4  1x5  1x6  1x7  1x8  1x9  ...  28x19  28x20  \\\n",
       "0      5    0    0    0    0    0    0    0    0    0  ...      0      0   \n",
       "1      0    0    0    0    0    0    0    0    0    0  ...      0      0   \n",
       "2      4    0    0    0    0    0    0    0    0    0  ...      0      0   \n",
       "3      1    0    0    0    0    0    0    0    0    0  ...      0      0   \n",
       "4      9    0    0    0    0    0    0    0    0    0  ...      0      0   \n",
       "\n",
       "   28x21  28x22  28x23  28x24  28x25  28x26  28x27  28x28  \n",
       "0      0      0      0      0      0      0      0      0  \n",
       "1      0      0      0      0      0      0      0      0  \n",
       "2      0      0      0      0      0      0      0      0  \n",
       "3      0      0      0      0      0      0      0      0  \n",
       "4      0      0      0      0      0      0      0      0  \n",
       "\n",
       "[5 rows x 785 columns]"
      ]
     },
     "execution_count": 24,
     "metadata": {},
     "output_type": "execute_result"
    }
   ],
   "source": [
    "df.head()"
   ]
  },
  {
   "cell_type": "code",
   "execution_count": 5,
   "id": "28f2dacf",
   "metadata": {
    "ExecuteTime": {
     "end_time": "2024-04-30T19:21:58.146483Z",
     "start_time": "2024-04-30T19:21:57.894310Z"
    }
   },
   "outputs": [],
   "source": [
    "Y=df['label']\n",
    "X=df.drop('label',axis=1)"
   ]
  },
  {
   "cell_type": "code",
   "execution_count": 4,
   "id": "443a3c93",
   "metadata": {
    "ExecuteTime": {
     "end_time": "2024-04-30T14:20:29.725105Z",
     "start_time": "2024-04-30T14:20:29.707710Z"
    }
   },
   "outputs": [
    {
     "data": {
      "text/html": [
       "<div>\n",
       "<style scoped>\n",
       "    .dataframe tbody tr th:only-of-type {\n",
       "        vertical-align: middle;\n",
       "    }\n",
       "\n",
       "    .dataframe tbody tr th {\n",
       "        vertical-align: top;\n",
       "    }\n",
       "\n",
       "    .dataframe thead th {\n",
       "        text-align: right;\n",
       "    }\n",
       "</style>\n",
       "<table border=\"1\" class=\"dataframe\">\n",
       "  <thead>\n",
       "    <tr style=\"text-align: right;\">\n",
       "      <th></th>\n",
       "      <th>8x5</th>\n",
       "      <th>8x6</th>\n",
       "      <th>8x7</th>\n",
       "      <th>8x8</th>\n",
       "      <th>8x9</th>\n",
       "      <th>8x10</th>\n",
       "      <th>8x11</th>\n",
       "      <th>8x12</th>\n",
       "      <th>8x13</th>\n",
       "      <th>8x14</th>\n",
       "      <th>...</th>\n",
       "      <th>28x19</th>\n",
       "      <th>28x20</th>\n",
       "      <th>28x21</th>\n",
       "      <th>28x22</th>\n",
       "      <th>28x23</th>\n",
       "      <th>28x24</th>\n",
       "      <th>28x25</th>\n",
       "      <th>28x26</th>\n",
       "      <th>28x27</th>\n",
       "      <th>28x28</th>\n",
       "    </tr>\n",
       "  </thead>\n",
       "  <tbody>\n",
       "    <tr>\n",
       "      <th>13666</th>\n",
       "      <td>0</td>\n",
       "      <td>0</td>\n",
       "      <td>0</td>\n",
       "      <td>0</td>\n",
       "      <td>110</td>\n",
       "      <td>232</td>\n",
       "      <td>252</td>\n",
       "      <td>192</td>\n",
       "      <td>82</td>\n",
       "      <td>12</td>\n",
       "      <td>...</td>\n",
       "      <td>0</td>\n",
       "      <td>0</td>\n",
       "      <td>0</td>\n",
       "      <td>0</td>\n",
       "      <td>0</td>\n",
       "      <td>0</td>\n",
       "      <td>0</td>\n",
       "      <td>0</td>\n",
       "      <td>0</td>\n",
       "      <td>0</td>\n",
       "    </tr>\n",
       "    <tr>\n",
       "      <th>10862</th>\n",
       "      <td>0</td>\n",
       "      <td>0</td>\n",
       "      <td>0</td>\n",
       "      <td>0</td>\n",
       "      <td>6</td>\n",
       "      <td>195</td>\n",
       "      <td>254</td>\n",
       "      <td>254</td>\n",
       "      <td>254</td>\n",
       "      <td>254</td>\n",
       "      <td>...</td>\n",
       "      <td>0</td>\n",
       "      <td>0</td>\n",
       "      <td>0</td>\n",
       "      <td>0</td>\n",
       "      <td>0</td>\n",
       "      <td>0</td>\n",
       "      <td>0</td>\n",
       "      <td>0</td>\n",
       "      <td>0</td>\n",
       "      <td>0</td>\n",
       "    </tr>\n",
       "    <tr>\n",
       "      <th>13447</th>\n",
       "      <td>0</td>\n",
       "      <td>0</td>\n",
       "      <td>0</td>\n",
       "      <td>0</td>\n",
       "      <td>0</td>\n",
       "      <td>62</td>\n",
       "      <td>183</td>\n",
       "      <td>253</td>\n",
       "      <td>252</td>\n",
       "      <td>253</td>\n",
       "      <td>...</td>\n",
       "      <td>0</td>\n",
       "      <td>0</td>\n",
       "      <td>0</td>\n",
       "      <td>0</td>\n",
       "      <td>0</td>\n",
       "      <td>0</td>\n",
       "      <td>0</td>\n",
       "      <td>0</td>\n",
       "      <td>0</td>\n",
       "      <td>0</td>\n",
       "    </tr>\n",
       "    <tr>\n",
       "      <th>20861</th>\n",
       "      <td>0</td>\n",
       "      <td>0</td>\n",
       "      <td>0</td>\n",
       "      <td>0</td>\n",
       "      <td>0</td>\n",
       "      <td>0</td>\n",
       "      <td>0</td>\n",
       "      <td>82</td>\n",
       "      <td>203</td>\n",
       "      <td>233</td>\n",
       "      <td>...</td>\n",
       "      <td>0</td>\n",
       "      <td>0</td>\n",
       "      <td>0</td>\n",
       "      <td>0</td>\n",
       "      <td>0</td>\n",
       "      <td>0</td>\n",
       "      <td>0</td>\n",
       "      <td>0</td>\n",
       "      <td>0</td>\n",
       "      <td>0</td>\n",
       "    </tr>\n",
       "    <tr>\n",
       "      <th>44749</th>\n",
       "      <td>0</td>\n",
       "      <td>0</td>\n",
       "      <td>0</td>\n",
       "      <td>0</td>\n",
       "      <td>88</td>\n",
       "      <td>248</td>\n",
       "      <td>253</td>\n",
       "      <td>253</td>\n",
       "      <td>181</td>\n",
       "      <td>35</td>\n",
       "      <td>...</td>\n",
       "      <td>0</td>\n",
       "      <td>0</td>\n",
       "      <td>0</td>\n",
       "      <td>0</td>\n",
       "      <td>0</td>\n",
       "      <td>0</td>\n",
       "      <td>0</td>\n",
       "      <td>0</td>\n",
       "      <td>0</td>\n",
       "      <td>0</td>\n",
       "    </tr>\n",
       "    <tr>\n",
       "      <th>45505</th>\n",
       "      <td>0</td>\n",
       "      <td>0</td>\n",
       "      <td>0</td>\n",
       "      <td>0</td>\n",
       "      <td>0</td>\n",
       "      <td>0</td>\n",
       "      <td>0</td>\n",
       "      <td>125</td>\n",
       "      <td>253</td>\n",
       "      <td>253</td>\n",
       "      <td>...</td>\n",
       "      <td>0</td>\n",
       "      <td>0</td>\n",
       "      <td>0</td>\n",
       "      <td>0</td>\n",
       "      <td>0</td>\n",
       "      <td>0</td>\n",
       "      <td>0</td>\n",
       "      <td>0</td>\n",
       "      <td>0</td>\n",
       "      <td>0</td>\n",
       "    </tr>\n",
       "    <tr>\n",
       "      <th>44711</th>\n",
       "      <td>0</td>\n",
       "      <td>0</td>\n",
       "      <td>0</td>\n",
       "      <td>0</td>\n",
       "      <td>0</td>\n",
       "      <td>18</td>\n",
       "      <td>238</td>\n",
       "      <td>217</td>\n",
       "      <td>0</td>\n",
       "      <td>0</td>\n",
       "      <td>...</td>\n",
       "      <td>0</td>\n",
       "      <td>0</td>\n",
       "      <td>0</td>\n",
       "      <td>0</td>\n",
       "      <td>0</td>\n",
       "      <td>0</td>\n",
       "      <td>0</td>\n",
       "      <td>0</td>\n",
       "      <td>0</td>\n",
       "      <td>0</td>\n",
       "    </tr>\n",
       "    <tr>\n",
       "      <th>28015</th>\n",
       "      <td>0</td>\n",
       "      <td>0</td>\n",
       "      <td>0</td>\n",
       "      <td>0</td>\n",
       "      <td>0</td>\n",
       "      <td>0</td>\n",
       "      <td>0</td>\n",
       "      <td>0</td>\n",
       "      <td>0</td>\n",
       "      <td>0</td>\n",
       "      <td>...</td>\n",
       "      <td>0</td>\n",
       "      <td>0</td>\n",
       "      <td>0</td>\n",
       "      <td>0</td>\n",
       "      <td>0</td>\n",
       "      <td>0</td>\n",
       "      <td>0</td>\n",
       "      <td>0</td>\n",
       "      <td>0</td>\n",
       "      <td>0</td>\n",
       "    </tr>\n",
       "    <tr>\n",
       "      <th>55164</th>\n",
       "      <td>0</td>\n",
       "      <td>0</td>\n",
       "      <td>0</td>\n",
       "      <td>0</td>\n",
       "      <td>0</td>\n",
       "      <td>0</td>\n",
       "      <td>0</td>\n",
       "      <td>87</td>\n",
       "      <td>234</td>\n",
       "      <td>207</td>\n",
       "      <td>...</td>\n",
       "      <td>0</td>\n",
       "      <td>0</td>\n",
       "      <td>0</td>\n",
       "      <td>0</td>\n",
       "      <td>0</td>\n",
       "      <td>0</td>\n",
       "      <td>0</td>\n",
       "      <td>0</td>\n",
       "      <td>0</td>\n",
       "      <td>0</td>\n",
       "    </tr>\n",
       "    <tr>\n",
       "      <th>35580</th>\n",
       "      <td>0</td>\n",
       "      <td>0</td>\n",
       "      <td>0</td>\n",
       "      <td>0</td>\n",
       "      <td>0</td>\n",
       "      <td>0</td>\n",
       "      <td>0</td>\n",
       "      <td>152</td>\n",
       "      <td>252</td>\n",
       "      <td>243</td>\n",
       "      <td>...</td>\n",
       "      <td>0</td>\n",
       "      <td>0</td>\n",
       "      <td>0</td>\n",
       "      <td>0</td>\n",
       "      <td>0</td>\n",
       "      <td>0</td>\n",
       "      <td>0</td>\n",
       "      <td>0</td>\n",
       "      <td>0</td>\n",
       "      <td>0</td>\n",
       "    </tr>\n",
       "  </tbody>\n",
       "</table>\n",
       "<p>10 rows × 584 columns</p>\n",
       "</div>"
      ],
      "text/plain": [
       "       8x5  8x6  8x7  8x8  8x9  8x10  8x11  8x12  8x13  8x14  ...  28x19  \\\n",
       "13666    0    0    0    0  110   232   252   192    82    12  ...      0   \n",
       "10862    0    0    0    0    6   195   254   254   254   254  ...      0   \n",
       "13447    0    0    0    0    0    62   183   253   252   253  ...      0   \n",
       "20861    0    0    0    0    0     0     0    82   203   233  ...      0   \n",
       "44749    0    0    0    0   88   248   253   253   181    35  ...      0   \n",
       "45505    0    0    0    0    0     0     0   125   253   253  ...      0   \n",
       "44711    0    0    0    0    0    18   238   217     0     0  ...      0   \n",
       "28015    0    0    0    0    0     0     0     0     0     0  ...      0   \n",
       "55164    0    0    0    0    0     0     0    87   234   207  ...      0   \n",
       "35580    0    0    0    0    0     0     0   152   252   243  ...      0   \n",
       "\n",
       "       28x20  28x21  28x22  28x23  28x24  28x25  28x26  28x27  28x28  \n",
       "13666      0      0      0      0      0      0      0      0      0  \n",
       "10862      0      0      0      0      0      0      0      0      0  \n",
       "13447      0      0      0      0      0      0      0      0      0  \n",
       "20861      0      0      0      0      0      0      0      0      0  \n",
       "44749      0      0      0      0      0      0      0      0      0  \n",
       "45505      0      0      0      0      0      0      0      0      0  \n",
       "44711      0      0      0      0      0      0      0      0      0  \n",
       "28015      0      0      0      0      0      0      0      0      0  \n",
       "55164      0      0      0      0      0      0      0      0      0  \n",
       "35580      0      0      0      0      0      0      0      0      0  \n",
       "\n",
       "[10 rows x 584 columns]"
      ]
     },
     "execution_count": 4,
     "metadata": {},
     "output_type": "execute_result"
    }
   ],
   "source": [
    "X.sample(10).iloc[:,200:]"
   ]
  },
  {
   "cell_type": "code",
   "execution_count": 5,
   "id": "3af8c84f",
   "metadata": {
    "ExecuteTime": {
     "end_time": "2024-04-30T14:20:31.579829Z",
     "start_time": "2024-04-30T14:20:31.242918Z"
    }
   },
   "outputs": [
    {
     "data": {
      "image/png": "[encoded data removed]",
      "text/plain": [
       "<Figure size 1200x500 with 10 Axes>"
      ]
     },
     "metadata": {},
     "output_type": "display_data"
    }
   ],
   "source": [
    "fig,axes=plt.subplots(2,5,figsize=(12,5))\n",
    "axes=axes.flatten()\n",
    "idx=np.random.randint(0,60000,size=10)\n",
    "for i in range(10):\n",
    "    axes[i].imshow(X.iloc[idx[i],:].values.reshape(28,28),cmap='gray')\n",
    "    axes[i].axis('off')\n",
    "    axes[i].set_title(Y[idx[i]])\n",
    "plt.show()"
   ]
  },
  {
   "cell_type": "code",
   "execution_count": 6,
   "id": "e13b6e2c",
   "metadata": {
    "ExecuteTime": {
     "end_time": "2024-04-30T19:22:07.015164Z",
     "start_time": "2024-04-30T19:22:06.110497Z"
    }
   },
   "outputs": [],
   "source": [
    "# train test split\n",
    "x_t,x_test,y_t,y_test=train_test_split(X,Y,test_size=0.2,random_state=42)\n",
    "x_train,x_val,y_train,y_val=train_test_split(x_t,y_t,test_size=0.2,random_state=42)\n"
   ]
  },
  {
   "cell_type": "code",
   "execution_count": 7,
   "id": "2c2d7b41",
   "metadata": {
    "ExecuteTime": {
     "end_time": "2024-04-30T19:22:07.853114Z",
     "start_time": "2024-04-30T19:22:07.357793Z"
    }
   },
   "outputs": [],
   "source": [
    "#Normalization of data\n",
    "import warnings\n",
    "warnings.filterwarnings('ignore')\n",
    "normalizer=Normalizer()\n",
    "x_train=normalizer.fit_transform(x_train)\n",
    "x_val=normalizer.transform(x_val)\n",
    "x_test=normalizer.transform(x_test)"
   ]
  },
  {
   "cell_type": "code",
   "execution_count": 8,
   "id": "a85654db",
   "metadata": {
    "ExecuteTime": {
     "end_time": "2024-04-30T19:22:09.151959Z",
     "start_time": "2024-04-30T19:22:09.145107Z"
    }
   },
   "outputs": [
    {
     "data": {
      "text/plain": [
       "1"
      ]
     },
     "execution_count": 8,
     "metadata": {},
     "output_type": "execute_result"
    }
   ],
   "source": [
    "lst=range(1,11)\n",
    "lst[0]"
   ]
  },
  {
   "cell_type": "markdown",
   "id": "f8430030",
   "metadata": {},
   "source": [
    "## Dataset & Dataloader class\n",
    "\n",
    "1. Basic Idea behind the Dataset and DataLoader class is to be decoupled from our model training code for better readability and modularity.\n",
    "2. PyTorch provides two data primitives: `torch.utils.data.DataLoader` and `torch.utils.data.Dataset` that allow you to use pre-loaded datasets as well as your own data.\n",
    "3. Dataset class stores the samples and their corresponding labels, and DataLoader class wraps an iterable around the Dataset to enable easy access to the samples."
   ]
  },
  {
   "cell_type": "markdown",
   "id": "07f8d35a",
   "metadata": {},
   "source": [
    "## Dataset Class\n",
    "\n",
    "A custom Dataset class must implement three functions: ``__init__``, ``__len__``, and ``__getitem__``.\n",
    "\n",
    "1. The __init__ function is run once when instantiating the Dataset object. We initialize the directory containing the images, the annotations file, and both transforms\n",
    "2. The __len__ function returns the number of samples in our dataset.\n",
    "3. The __getitem__ function loads and returns a sample from the dataset at the given index idx. Based on the index, it identifies the sample and label and return it as a tuple."
   ]
  },
  {
   "cell_type": "code",
   "execution_count": 9,
   "id": "dd93118d",
   "metadata": {
    "ExecuteTime": {
     "end_time": "2024-04-30T19:22:14.577788Z",
     "start_time": "2024-04-30T19:22:14.574071Z"
    }
   },
   "outputs": [],
   "source": [
    "class CustomDataset(Dataset):\n",
    "    def __init__(self,features,label):\n",
    "        self.features=features\n",
    "        self.label=label\n",
    "    def __len__(self):\n",
    "        return self.features.shape[0]\n",
    "    def __getitem__(self,idx):\n",
    "        sample=self.features[idx]\n",
    "        label=self.label.values[idx]\n",
    "        sample_tensor=torch.tensor(sample,dtype=torch.float32)\n",
    "        label_tensor=torch.tensor(label,dtype=torch.long)\n",
    "        return sample_tensor,label_tensor"
   ]
  },
  {
   "cell_type": "code",
   "execution_count": 10,
   "id": "5fe65d9b",
   "metadata": {
    "ExecuteTime": {
     "end_time": "2024-04-30T19:22:16.008975Z",
     "start_time": "2024-04-30T19:22:16.006251Z"
    }
   },
   "outputs": [],
   "source": [
    "train_dataset=CustomDataset(x_train,y_train)\n",
    "val_dataset=CustomDataset(x_val,y_val)\n",
    "test_dataset=CustomDataset(x_test,y_test)\n"
   ]
  },
  {
   "cell_type": "markdown",
   "id": "21a7ae10",
   "metadata": {},
   "source": [
    "## DataLoader Class\n",
    "\n",
    "The Dataset retrieves our dataset’s features and labels one sample at a time. While training a model, we typically want to pass samples in “minibatches”, reshuffle the data at every epoch to reduce model overfitting, and use Python’s multiprocessing(num_worker) to speed up data retrieval.\n",
    "\n",
    "`DataLoader is an iterable that abstracts this complexity for us in an easy API.`\n",
    "\n",
    "When we load the dataset into the DataLoader and we can iterate through the dataset as needed.\n"
   ]
  },
  {
   "cell_type": "code",
   "execution_count": 11,
   "id": "7e499aef",
   "metadata": {
    "ExecuteTime": {
     "end_time": "2024-04-30T19:22:20.225615Z",
     "start_time": "2024-04-30T19:22:20.222255Z"
    }
   },
   "outputs": [
    {
     "data": {
      "text/plain": [
       "'cpu'"
      ]
     },
     "execution_count": 11,
     "metadata": {},
     "output_type": "execute_result"
    }
   ],
   "source": [
    "batch_size=64\n",
    "device=('cuda' if torch.cuda.is_available() else 'cpu')\n",
    "device"
   ]
  },
  {
   "cell_type": "code",
   "execution_count": 12,
   "id": "9a690104",
   "metadata": {
    "ExecuteTime": {
     "end_time": "2024-04-30T19:22:21.584694Z",
     "start_time": "2024-04-30T19:22:21.582080Z"
    }
   },
   "outputs": [],
   "source": [
    "train_dataloader=DataLoader(train_dataset,batch_size,shuffle=True)\n",
    "val_dataloader=DataLoader(val_dataset,batch_size,shuffle=True)\n",
    "test_dataloader=DataLoader(test_dataset,batch_size,shuffle=True)"
   ]
  },
  {
   "cell_type": "markdown",
   "id": "f9a7b52f",
   "metadata": {},
   "source": [
    "Each iteration below returns a batch of ```train_features``` and ```train_labels``` \n",
    "(containing ```batch_size=64 features and labels``` respectively).Because we specified ```shuffle=True```, after we iterate over all batches the data is shuffled."
   ]
  },
  {
   "cell_type": "code",
   "execution_count": 13,
   "id": "5a460ccf",
   "metadata": {
    "ExecuteTime": {
     "end_time": "2024-04-30T19:22:23.057355Z",
     "start_time": "2024-04-30T19:22:23.046246Z"
    }
   },
   "outputs": [
    {
     "name": "stdout",
     "output_type": "stream",
     "text": [
      "tensor([[0.0000, 0.0000, 0.0000,  ..., 0.0222, 0.0000, 0.0000],\n",
      "        [0.0000, 0.0000, 0.0000,  ..., 0.0817, 0.1245, 0.0772],\n",
      "        [0.0000, 0.0000, 0.0000,  ..., 0.0000, 0.0000, 0.0000],\n",
      "        ...,\n",
      "        [0.0000, 0.0000, 0.0000,  ..., 0.0060, 0.1022, 0.1272],\n",
      "        [0.0000, 0.0000, 0.0000,  ..., 0.0953, 0.0950, 0.0633],\n",
      "        [0.0000, 0.0000, 0.0000,  ..., 0.0000, 0.0135, 0.1138]])\n"
     ]
    }
   ],
   "source": [
    "data,label=next(iter(train_dataloader))\n",
    "print(data[:,278:300])"
   ]
  },
  {
   "cell_type": "code",
   "execution_count": 16,
   "id": "a4c03b9e",
   "metadata": {
    "ExecuteTime": {
     "end_time": "2024-04-30T14:27:34.199836Z",
     "start_time": "2024-04-30T14:27:34.197431Z"
    }
   },
   "outputs": [
    {
     "name": "stdout",
     "output_type": "stream",
     "text": [
      "tensor([3, 0, 6, 3, 5, 7, 4, 2, 0, 7, 0, 7, 4, 2, 4, 0, 3, 4, 5, 5, 0, 2, 3, 1,\n",
      "        8, 4, 7, 9, 0, 0, 9, 1, 0, 7, 3, 6, 7, 8, 8, 5, 1, 2, 5, 6, 5, 3, 6, 2,\n",
      "        2, 7, 7, 8, 1, 8, 2, 2, 0, 9, 8, 7, 7, 6, 1, 8])\n"
     ]
    }
   ],
   "source": [
    "print(label)"
   ]
  },
  {
   "cell_type": "code",
   "execution_count": 18,
   "id": "897caa41",
   "metadata": {
    "ExecuteTime": {
     "end_time": "2024-04-30T14:27:59.485177Z",
     "start_time": "2024-04-30T14:27:59.481651Z"
    }
   },
   "outputs": [
    {
     "data": {
      "text/plain": [
       "torch.Size([64, 784])"
      ]
     },
     "execution_count": 18,
     "metadata": {},
     "output_type": "execute_result"
    }
   ],
   "source": [
    "data.size()"
   ]
  },
  {
   "cell_type": "markdown",
   "id": "832366f6",
   "metadata": {},
   "source": [
    "```torch.nn.Module``` and ```torch.nn.Parameter```\\\n",
    "Except for ```Parameter```, the classes we will be discussing are all subclasses of ```torch.nn.Module```.\n",
    "```torch.nn.Module``` is the PyTorch base class which is meant to encapsulate behaviours specific to ```PyTorch Models``` and their ```Components``` like activation functions etc.\\\n",
    "One of the important behavior of ```torch.nn.Module``` is registering(initializing) parameters for the layers\n",
    "    defined using subclass of ```Module```. For example ```Module``` subclass, ```nn.Linear()``` has learning weights,these weights are expressed as instances of ```torch.nn.Parameter``` class.\\\n",
    "    The ```Parameter``` class is a subclass of ```torch.Tensor``` with the special behavior that when they are assigned as attributes of a ```Module```, they are added to the list of that modules parameters. These parameters can be accessed through the ```parameters()``` method on the ```Module``` class."
   ]
  },
  {
   "cell_type": "markdown",
   "id": "71d72985",
   "metadata": {},
   "source": [
    "## Different Methods to define Model"
   ]
  },
  {
   "cell_type": "markdown",
   "id": "60f753ac",
   "metadata": {
    "heading_collapsed": true
   },
   "source": [
    "### Simple Model "
   ]
  },
  {
   "cell_type": "code",
   "execution_count": 19,
   "id": "fd93bfd0",
   "metadata": {
    "ExecuteTime": {
     "end_time": "2024-04-30T15:02:11.481521Z",
     "start_time": "2024-04-30T15:02:11.478112Z"
    },
    "code_folding": [],
    "hidden": true
   },
   "outputs": [],
   "source": [
    "class MyModel(nn.Module):\n",
    "    def __init__(self):\n",
    "        super().__init__()\n",
    "        self.fc1=nn.Linear(28*28,512)\n",
    "        self.relu1=nn.ReLU()\n",
    "        self.fc2=nn.Linear(512,512)\n",
    "        self.relu2=nn.ReLU()\n",
    "        self.fc3=nn.Linear(512,10)\n",
    "    def forward(self,x):\n",
    "        x=self.fc1(x)\n",
    "        x=self.relu1(x)\n",
    "        x=self.fc2(x)\n",
    "        x=self.relu2(x)\n",
    "        x=self.fc3(x)\n",
    "        return x"
   ]
  },
  {
   "cell_type": "markdown",
   "id": "ef6f3bb8",
   "metadata": {
    "heading_collapsed": true
   },
   "source": [
    "### Using Functional Interface"
   ]
  },
  {
   "cell_type": "markdown",
   "id": "99ad752b",
   "metadata": {
    "hidden": true
   },
   "source": [
    "- It is a functional interface where we directly pass the input tensor to it and get the activated output.\n",
    "- It does not hold or manage any internal state and therefore statless.\n",
    "- Since it is stateless, it's ideal when you don't need teh module to track activations as part of model's statful components."
   ]
  },
  {
   "cell_type": "code",
   "execution_count": 20,
   "id": "11766f6a",
   "metadata": {
    "ExecuteTime": {
     "end_time": "2024-04-30T15:20:17.117684Z",
     "start_time": "2024-04-30T15:20:17.113214Z"
    },
    "code_folding": [],
    "hidden": true
   },
   "outputs": [],
   "source": [
    "class FunctionalModel(nn.Module):\n",
    "    def __init__(self):\n",
    "        super().__init__()\n",
    "        self.fc1=nn.Linear(784,512)\n",
    "        self.fc2=nn.Linear(512,512)\n",
    "        self.fc3=nn.Linear(512,10)\n",
    "    def forward(self,x):\n",
    "        x=F.relu(self.fc1(x))\n",
    "        x=F.relu(self.fc2(x))\n",
    "        x=self.fc3(x)\n",
    "        return x"
   ]
  },
  {
   "cell_type": "markdown",
   "id": "0963f464",
   "metadata": {
    "heading_collapsed": true
   },
   "source": [
    "### Using Sequential"
   ]
  },
  {
   "cell_type": "markdown",
   "id": "664c7fb6",
   "metadata": {
    "hidden": true
   },
   "source": [
    "- This approach represent Model as a sequence of Operations.\n",
    "- It is the most concise way to define a model, but it offers less flexibility for models that require complex data\n",
    "flows or custom operations.\n",
    "- ```nn.Sequential``` expects modules as its arguments/"
   ]
  },
  {
   "cell_type": "code",
   "execution_count": 23,
   "id": "3c8fe58b",
   "metadata": {
    "ExecuteTime": {
     "end_time": "2024-04-30T16:20:17.545113Z",
     "start_time": "2024-04-30T16:20:17.542009Z"
    },
    "hidden": true
   },
   "outputs": [],
   "source": [
    "class SequentialModel(nn.Module):\n",
    "    def __init__(self):\n",
    "        super().__init__()\n",
    "        self.layer=nn.Sequential(\n",
    "        nn.Linear(784,512),\n",
    "        nn.ReLU(),\n",
    "        nn.Linear(512,512),\n",
    "        nn.ReLU(),\n",
    "        nn.Linear(512,10))\n",
    "    def forward(self,x):\n",
    "        return self.layer(x)"
   ]
  },
  {
   "cell_type": "markdown",
   "id": "0d162c43",
   "metadata": {},
   "source": [
    "## Batch Normalization and Dropout layers"
   ]
  },
  {
   "cell_type": "code",
   "execution_count": 40,
   "id": "fa0e052a",
   "metadata": {
    "ExecuteTime": {
     "end_time": "2024-04-30T17:00:34.783671Z",
     "start_time": "2024-04-30T17:00:34.779246Z"
    }
   },
   "outputs": [],
   "source": [
    "class Model(nn.Module):\n",
    "    def __init__(self):\n",
    "        super().__init__()\n",
    "        self.fc1=nn.Linear(784,512)\n",
    "        self.batch_norm1=nn.BatchNorm1d(512)\n",
    "        self.relu1=nn.ReLU()\n",
    "        self.dropout_1=nn.Dropout(p=0.2)\n",
    "        self.fc2=nn.Linear(512,512)\n",
    "        self.batch_norm2=nn.BatchNorm1d(512)\n",
    "        self.relu2=nn.ReLU()\n",
    "        self.dropout_2=nn.Dropout(p=0.2)\n",
    "        self.fc2=nn.Linear(512,10)\n",
    "    def forward(self,x):\n",
    "        x=self.dropout_1(self.relu1(self.batch_norm1(self.fc1(x))))\n",
    "        x=self.dropout_2(self.relu2(self.batch_norm2(self.fc2(x))))\n",
    "        x=self.fc3(x)\n",
    "        return x"
   ]
  },
  {
   "cell_type": "markdown",
   "id": "325777eb",
   "metadata": {},
   "source": [
    "## Final Model"
   ]
  },
  {
   "cell_type": "markdown",
   "id": "5fc62b54",
   "metadata": {},
   "source": [
    "### Model Architecture"
   ]
  },
  {
   "cell_type": "code",
   "execution_count": 14,
   "id": "e70f47f2",
   "metadata": {
    "ExecuteTime": {
     "end_time": "2024-04-30T19:23:03.515089Z",
     "start_time": "2024-04-30T19:23:03.511755Z"
    }
   },
   "outputs": [],
   "source": [
    "# Define a custom classifier class that inherits from nn.Module\n",
    "class Model(nn.Module):\n",
    "    def __init__(self):\n",
    "        super().__init__()\n",
    "\n",
    "        # Define the layers of the neural network\n",
    "        self.fc1 = nn.Linear(784, 120)  # Fully connected layer 1 with 784 input features and 120 output features\n",
    "        self.fc2 = nn.Linear(120, 120)  # Fully connected layer 2 with 120 input features and 120 output features\n",
    "        self.fc3 = nn.Linear(120, 10)   # Fully connected layer 3 with 120 input features and 10 output features\n",
    "        self.dropout = nn.Dropout(0.2)  # Dropout layer with a dropout probability of 0.2\n",
    "\n",
    "    def forward(self, x):\n",
    "        # Reshape the input tensor to have a flat vector shape\n",
    "        x = x.view(x.shape[0], -1)\n",
    "\n",
    "        # Apply the first fully connected layer with ReLU activation and dropout\n",
    "        x = self.dropout(F.relu(self.fc1(x)))\n",
    "\n",
    "        # Apply the second fully connected layer with ReLU activation and dropout\n",
    "        x = self.dropout(F.relu(self.fc2(x)))\n",
    "\n",
    "        # Apply the third fully connected layer with log softmax activation\n",
    "        x = F.log_softmax(self.fc3(x), dim=1)\n",
    "\n",
    "        return x"
   ]
  },
  {
   "cell_type": "code",
   "execution_count": 15,
   "id": "5ac8df07",
   "metadata": {
    "ExecuteTime": {
     "end_time": "2024-04-30T19:23:04.794788Z",
     "start_time": "2024-04-30T19:23:04.791871Z"
    }
   },
   "outputs": [],
   "source": [
    "model=Model().to(device)"
   ]
  },
  {
   "cell_type": "code",
   "execution_count": 16,
   "id": "1fd3216f",
   "metadata": {
    "ExecuteTime": {
     "end_time": "2024-04-30T19:23:08.444051Z",
     "start_time": "2024-04-30T19:23:07.750806Z"
    }
   },
   "outputs": [],
   "source": [
    "loss_func = nn.CrossEntropyLoss()\n",
    "optimizer = torch.optim.Adam(model.parameters() , lr = 0.001)\n",
    "epochs = 100\n",
    "best_loss = 1e9\n",
    "patience = 5"
   ]
  },
  {
   "cell_type": "markdown",
   "id": "6a184aa3",
   "metadata": {},
   "source": [
    "### Model Training"
   ]
  },
  {
   "cell_type": "code",
   "execution_count": 17,
   "id": "4b1ae005",
   "metadata": {
    "ExecuteTime": {
     "end_time": "2024-04-30T19:23:51.452542Z",
     "start_time": "2024-04-30T19:23:12.910668Z"
    }
   },
   "outputs": [
    {
     "name": "stdout",
     "output_type": "stream",
     "text": [
      "1: train_loss = 0.6898148 | val_loss = 0.0046910 \n",
      "3: train_loss = 0.1775917 | val_loss = 0.0024953 \n",
      "5: train_loss = 0.1102939 | val_loss = 0.0018281 \n",
      "7: train_loss = 0.0747593 | val_loss = 0.0016224 \n",
      "9: train_loss = 0.0524036 | val_loss = 0.0015895 \n",
      "11: train_loss = 0.0370466 | val_loss = 0.0014881 \n",
      "13: train_loss = 0.0262110 | val_loss = 0.0013821 \n",
      "15: train_loss = 0.0189510 | val_loss = 0.0015905 \n",
      "17: train_loss = 0.0126181 | val_loss = 0.0017437 \n",
      "Early Stopping !!!\n"
     ]
    }
   ],
   "source": [
    "model.train()\n",
    "for epoch in range(epochs):\n",
    "\n",
    "  # Training\n",
    "    \n",
    "    train_loss = 0\n",
    "    train_count = 0\n",
    "    train_pred = 0\n",
    "    for data,label in train_dataloader:\n",
    "        data,label = data.to(device),label.to(device)\n",
    "        pred = model(data)\n",
    "        loss = loss_func(pred,label)\n",
    "        optimizer.zero_grad()\n",
    "        loss.backward()\n",
    "        optimizer.step()\n",
    "        train_loss += loss.item()\n",
    "        train_pred += (pred.argmax(1) == label).sum().type(torch.float).item()\n",
    "        train_count += 1\n",
    "\n",
    "    train_loss = train_loss / train_count\n",
    "\n",
    "\n",
    "  # Validation\n",
    "    with torch.no_grad():\n",
    "        model.eval()\n",
    "        val_loss = 0\n",
    "        val_count = 0\n",
    "        val_pred = 0\n",
    "        for data,label in val_dataloader:\n",
    "            data,label = data.to(device),label.to(device)\n",
    "            pred = model(data)\n",
    "            loss = loss_func(pred,label)\n",
    "            val_pred += (pred.argmax(1) == label).sum().type(torch.float).item()\n",
    "            val_count += len(label)\n",
    "            val_loss += loss.item()\n",
    "\n",
    "        val_loss = val_loss / val_count\n",
    "\n",
    "\n",
    "    if val_loss < best_loss:\n",
    "        count = 0\n",
    "        best_loss = val_loss\n",
    "        checkpoint = {\n",
    "            'epoch': epoch + 1,\n",
    "            'model_state_dict': model.state_dict(),\n",
    "            'optimizer_state_dict': optimizer.state_dict(),\n",
    "            'loss': best_loss,\n",
    "        }\n",
    "        torch.save(checkpoint, f\"Model checkpoint: {epoch+1}\") # saving model\n",
    "    else:\n",
    "        count += 1\n",
    "    if count == patience:\n",
    "        print(\"Early Stopping !!!\")\n",
    "        break\n",
    "\n",
    "    if epoch%2 == 0:\n",
    "        print(f\"{epoch+1}: train_loss = {train_loss:.7f} | val_loss = {val_loss:.7f} \" )\n"
   ]
  },
  {
   "cell_type": "markdown",
   "id": "f02a2e5e",
   "metadata": {},
   "source": [
    "### Model Testing"
   ]
  },
  {
   "cell_type": "code",
   "execution_count": 18,
   "id": "8113f475",
   "metadata": {
    "ExecuteTime": {
     "end_time": "2024-04-30T19:23:58.168992Z",
     "start_time": "2024-04-30T19:23:58.165292Z"
    }
   },
   "outputs": [],
   "source": [
    "# Load the saved model checkpoint\n",
    "checkpoint_path = 'Model checkpoint: 10'\n",
    "checkpoint = torch.load(checkpoint_path)"
   ]
  },
  {
   "cell_type": "code",
   "execution_count": 19,
   "id": "b20a5388",
   "metadata": {
    "ExecuteTime": {
     "end_time": "2024-04-30T19:24:04.185641Z",
     "start_time": "2024-04-30T19:24:04.182145Z"
    }
   },
   "outputs": [
    {
     "data": {
      "text/plain": [
       "<All keys matched successfully>"
      ]
     },
     "execution_count": 19,
     "metadata": {},
     "output_type": "execute_result"
    }
   ],
   "source": [
    "# Assuming model and optimizer are defined elsewhere in your code\n",
    "model.load_state_dict(checkpoint['model_state_dict'])\n"
   ]
  },
  {
   "cell_type": "code",
   "execution_count": 20,
   "id": "8b82eb8a",
   "metadata": {
    "ExecuteTime": {
     "end_time": "2024-04-30T19:24:06.160994Z",
     "start_time": "2024-04-30T19:24:06.158116Z"
    }
   },
   "outputs": [
    {
     "data": {
      "text/plain": [
       "Model(\n",
       "  (fc1): Linear(in_features=784, out_features=120, bias=True)\n",
       "  (fc2): Linear(in_features=120, out_features=120, bias=True)\n",
       "  (fc3): Linear(in_features=120, out_features=10, bias=True)\n",
       "  (dropout): Dropout(p=0.2, inplace=False)\n",
       ")"
      ]
     },
     "execution_count": 20,
     "metadata": {},
     "output_type": "execute_result"
    }
   ],
   "source": [
    "# Put model in evaluation mode\n",
    "model.eval()"
   ]
  },
  {
   "cell_type": "code",
   "execution_count": 21,
   "id": "6a721a20",
   "metadata": {
    "ExecuteTime": {
     "end_time": "2024-04-30T19:24:08.809228Z",
     "start_time": "2024-04-30T19:24:08.806887Z"
    }
   },
   "outputs": [],
   "source": [
    "# Load your test dataset\n",
    "# Assuming test_dataloader is defined elsewhere in your code and loaded with test data\n",
    "test_dataloader = test_dataloader\n"
   ]
  },
  {
   "cell_type": "code",
   "execution_count": 22,
   "id": "f468c006",
   "metadata": {
    "ExecuteTime": {
     "end_time": "2024-04-30T19:24:10.528847Z",
     "start_time": "2024-04-30T19:24:10.526651Z"
    }
   },
   "outputs": [],
   "source": [
    "# Initialize variables to monitor test performance\n",
    "test_loss = 0\n",
    "correct = 0\n"
   ]
  },
  {
   "cell_type": "code",
   "execution_count": 23,
   "id": "7b04e083",
   "metadata": {
    "ExecuteTime": {
     "end_time": "2024-04-30T19:24:12.883010Z",
     "start_time": "2024-04-30T19:24:12.574756Z"
    }
   },
   "outputs": [
    {
     "name": "stdout",
     "output_type": "stream",
     "text": [
      "Test Loss: 0.0015, Test Accuracy: 97.09%\n"
     ]
    }
   ],
   "source": [
    "# No gradient updates needed for testing\n",
    "with torch.no_grad():\n",
    "    for data, label in test_dataloader:\n",
    "        data, label = data.to(device), label.to(device)\n",
    "        pred = model(data)\n",
    "        loss = loss_func(pred, label)\n",
    "        test_loss += loss.item()\n",
    "        correct += (pred.argmax(1) == label).sum().item()\n",
    "\n",
    "# Calculate average loss and accuracy over the test set\n",
    "test_loss /= len(test_dataloader.dataset)\n",
    "test_accuracy = 100. * correct / len(test_dataloader.dataset)\n",
    "\n",
    "print(f'Test Loss: {test_loss:.4f}, Test Accuracy: {test_accuracy:.2f}%')\n"
   ]
  },
  {
   "cell_type": "code",
   "execution_count": 32,
   "id": "1963e2d1",
   "metadata": {
    "ExecuteTime": {
     "end_time": "2024-04-30T19:50:49.404414Z",
     "start_time": "2024-04-30T19:50:48.585135Z"
    }
   },
   "outputs": [
    {
     "data": {
      "image/png": "[encoded data removed]",
      "text/plain": [
       "<Figure size 1000x1000 with 25 Axes>"
      ]
     },
     "metadata": {},
     "output_type": "display_data"
    }
   ],
   "source": [
    "# obtain one batch of test images\n",
    "dataiter = iter(test_dataloader)\n",
    "\n",
    "images, labels = next(dataiter)\n",
    "\n",
    "# get sample outputs\n",
    "output = model(images)\n",
    "# convert output probabilities to predicted class\n",
    "_, preds = torch.max(output, 1)\n",
    "# prep images for display\n",
    "images = images.numpy()\n",
    "\n",
    "# plot the images in the batch, along with predicted and true labels\n",
    "fig = plt.figure(figsize=(10, 10))\n",
    "for idx in np.arange(25):\n",
    "    plt.subplot(5,5,idx+1)\n",
    "    plt.subplots_adjust(left=0.1, right=0.9, bottom=0.1, top=0.9, wspace=0.8, hspace=0.4)\n",
    "    plt.xticks([])\n",
    "    plt.yticks([])\n",
    "    plt.grid(False)\n",
    "    actual_labels=str(labels[idx].item())\n",
    "    pred_labels=str(preds[idx].item())\n",
    "    actual_labels_final=f\"Actual\\n{actual_labels}\"\n",
    "    pred_labels_final=f\"Predicted\\n{pred_labels}\"\n",
    "    \n",
    "    plt.imshow(np.squeeze(images[idx].reshape(28,28)), cmap='gray')\n",
    "    if actual_labels==pred_labels:\n",
    "        plt.title(\"Wow True\",color='green',fontsize=10)\n",
    "        plt.xlabel(actual_labels_final,color=\"green\",fontsize=10)\n",
    "        plt.ylabel(pred_labels_final,color=\"green\",fontsize=10)\n",
    "    else:\n",
    "        plt.title(\"Opps False\",color=\"red\",fontsize=10)\n",
    "        plt.xlabel(actual_labels_final,color=\"red\",fontsize=10)\n",
    "        plt.ylabel(pred_labels_final,color=\"red\",fontsize=10)\n"
   ]
  }
 ],
 "metadata": {
  "kernelspec": {
   "display_name": "Python 3 (ipykernel)",
   "language": "python",
   "name": "python3"
  },
  "language_info": {
   "codemirror_mode": {
    "name": "ipython",
    "version": 3
   },
   "file_extension": ".py",
   "mimetype": "text/x-python",
   "name": "python",
   "nbconvert_exporter": "python",
   "pygments_lexer": "ipython3",
   "version": "3.11.5"
  },
  "toc": {
   "base_numbering": 1,
   "nav_menu": {},
   "number_sections": true,
   "sideBar": true,
   "skip_h1_title": false,
   "title_cell": "Table of Contents",
   "title_sidebar": "Contents",
   "toc_cell": false,
   "toc_position": {},
   "toc_section_display": true,
   "toc_window_display": false
  }
 },
 "nbformat": 4,
 "nbformat_minor": 5
}
